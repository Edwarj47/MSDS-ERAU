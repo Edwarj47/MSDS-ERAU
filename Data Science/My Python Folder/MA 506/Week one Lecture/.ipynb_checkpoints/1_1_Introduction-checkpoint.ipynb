{
 "cells": [
  {
   "cell_type": "markdown",
   "id": "479f83e3",
   "metadata": {},
   "source": [
    "# MA 506 Probability and Statistical Inference"
   ]
  },
  {
   "cell_type": "markdown",
   "id": "b7870865",
   "metadata": {},
   "source": [
    "## 1: Definitions"
   ]
  },
  {
   "cell_type": "markdown",
   "id": "a64655ed",
   "metadata": {},
   "source": [
    "$\\textbf{Probability}$: Probability is the branch of mathematics concerning numerical descriptions of how likely an event is to occur, or how likely it is that a proposition is true. The probability of an event is a number between 0 and 1, where, roughly speaking, 0 indicates impossibility of the event and 1 indicates certainty [1].\n",
    "\n",
    "$\\textbf{Statistical Inference}$: Statistical inference is the process of using data analysis to infer properties of an underlying distribution of probability [2]."
   ]
  },
  {
   "cell_type": "markdown",
   "id": "1ee985ba",
   "metadata": {},
   "source": [
    "## 2: Why study this topic ?"
   ]
  },
  {
   "cell_type": "markdown",
   "id": "78161a79",
   "metadata": {},
   "source": [
    "Probability theory and statistical inference theory are important tools for data scientists and analysts that enables the computation of how certain we are about a numerical prediction. This estimation of reliability informs our level of trust in the output of a computer algorithm"
   ]
  },
  {
   "cell_type": "markdown",
   "id": "ff9561ca",
   "metadata": {},
   "source": [
    "### 2.1 Which prediction to trust more ?"
   ]
  },
  {
   "cell_type": "markdown",
   "id": "30118477",
   "metadata": {},
   "source": [
    "Running speed was recorded for several days for 5 people. Based on the speed data, assume the computer algorithm came up with the following predictions and uncertainty in estimation of speed for these people. From Jim, Slim, Harry, Dick and Tom, whose prediction would you trust most and whose the least ?"
   ]
  },
  {
   "cell_type": "code",
   "execution_count": 1,
   "id": "1773f14f",
   "metadata": {},
   "outputs": [
    {
     "data": {
      "image/png": "[encoded data removed]",
      "text/plain": [
       "<Figure size 640x480 with 1 Axes>"
      ]
     },
     "metadata": {},
     "output_type": "display_data"
    }
   ],
   "source": [
    "import matplotlib.pyplot as plt\n",
    "import numpy as np\n",
    "\n",
    "# Fixing random state for reproducibility\n",
    "np.random.seed(1)\n",
    "\n",
    "fig, ax = plt.subplots()\n",
    "\n",
    "# Example data\n",
    "people = ('Tom', 'Dick', 'Harry', 'Slim', 'Jim')\n",
    "y_pos = np.arange(len(people))\n",
    "performance = 3 + 10 * np.random.rand(len(people))\n",
    "std = np.random.rand(len(people))\n",
    "\n",
    "ax.barh(y_pos, performance, xerr=std, align='center')\n",
    "plt.yticks(y_pos,labels = people,size = 12)\n",
    "plt.xticks(size = 12)\n",
    "ax.set_xlabel('Running speed (mph)',size = 15)\n",
    "ax.set_title('Predicted running speed',size = 15)\n",
    "\n",
    "plt.show()"
   ]
  },
  {
   "cell_type": "markdown",
   "id": "ddb8225a",
   "metadata": {},
   "source": [
    "### 2.2 Prediction of class needs uncertainty estimates"
   ]
  },
  {
   "cell_type": "markdown",
   "id": "f509f19c",
   "metadata": {},
   "source": [
    "Suppose we are given the temperature data for past 1 month. Using this data we need to predict whether the next day would be hot or cold.\n",
    "\n",
    "\n",
    "For problems like these, just predicting hot/cold is not very useful as we don't convey how certain we are about the prediction. So we need to associate the prediction with a probability number to make the prediction more useful. For example: **We are 90% certain it would be hot tomorrow**"
   ]
  },
  {
   "cell_type": "markdown",
   "id": "340fe3f5",
   "metadata": {},
   "source": [
    "### 2.3 Machine learning algorithms we discuss are developed using probability and statistics concepts"
   ]
  },
  {
   "cell_type": "markdown",
   "id": "67dddcab",
   "metadata": {},
   "source": [
    "The algorithms such as Linear Regression, Logistic Regression and other probabilistic version of standard algorithms that we discuss have been developed using the foundations of probability and statistical inference theory. Hence for properly understanding these algorithms, we also need to spend time on understanding these involved concepts"
   ]
  },
  {
   "cell_type": "markdown",
   "id": "d83334a3",
   "metadata": {},
   "source": [
    "### 2.4 Machine learning models are trained using Probability concepts"
   ]
  },
  {
   "cell_type": "markdown",
   "id": "9f934302",
   "metadata": {},
   "source": [
    "The concepts such as:\n",
    "1. Maximum Likelihood Estimation (used in Linear Regression)\n",
    "2. Maximum a Posteriori Estimation (used in Probabilistic Regression)\n",
    "3. Expectation Maximization (used in Clustering)..... and so on\n",
    "\n",
    "\n",
    "form the building block for training most data mining and machine learning approaches. These concepts are directly/indirectly derived from mathematical theory of Probability, Statistics and Linear Algebra."
   ]
  },
  {
   "cell_type": "markdown",
   "id": "81f5a666",
   "metadata": {},
   "source": [
    "### 2.5 Understanding the scope of machine learning models\n",
    "\n",
    "Not all models are applicable for all kind of datasets. Understanding statistics and probability theory will enable us to understand the validity of a model for a particular given dataset. In this regard **statistical diagnostic** methods have been found to be really helpful. These include methods like:\n",
    "\n",
    "1. $R^2$\n",
    "2. Hypothesis testing\n",
    "3. F-Test... and so on"
   ]
  },
  {
   "cell_type": "markdown",
   "id": "e614ce17",
   "metadata": {},
   "source": [
    "#### Overall, in this course our focus would be on learning and analyzing standard machine learning algorithms from a statistical viewpoint."
   ]
  },
  {
   "cell_type": "markdown",
   "id": "07835e8e",
   "metadata": {},
   "source": [
    "## References"
   ]
  },
  {
   "cell_type": "markdown",
   "id": "9ee27d38",
   "metadata": {},
   "source": [
    "1. https://en.wikipedia.org/wiki/Probability#:~:text=Probability%20is%20the%20branch%20of,event%20and%201%20indicates%20certainty. [Wiki]\n",
    "2. https://en.wikipedia.org/wiki/Statistical_inference [Wiki]\n",
    "3. https://www.amazon.com/Machine-Learning-Probabilistic-Perspective-Computation/dp/0262018020/ref=as_li_ss_tl?keywords=machine+learning&qid=1563150905&s=books&sr=1-7&linkCode=sl1&tag=inspiredalgor-20&linkId=36ea988ab0adb253f90b6e4f0c27454f&language=en_US [Book]\n",
    "4. https://machinelearningmastery.com/why-learn-probability-for-machine-learning/ [Blog]"
   ]
  },
  {
   "cell_type": "code",
   "execution_count": null,
   "id": "f5a2654e",
   "metadata": {},
   "outputs": [],
   "source": []
  }
 ],
 "metadata": {
  "kernelspec": {
   "display_name": "Python 3 (ipykernel)",
   "language": "python",
   "name": "python3"
  },
  "language_info": {
   "codemirror_mode": {
    "name": "ipython",
    "version": 3
   },
   "file_extension": ".py",
   "mimetype": "text/x-python",
   "name": "python",
   "nbconvert_exporter": "python",
   "pygments_lexer": "ipython3",
   "version": "3.11.7"
  }
 },
 "nbformat": 4,
 "nbformat_minor": 5
}
