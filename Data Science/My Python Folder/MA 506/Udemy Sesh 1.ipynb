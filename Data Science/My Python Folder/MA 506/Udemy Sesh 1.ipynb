{
 "cells": [
  {
   "cell_type": "code",
   "execution_count": 2,
   "id": "55a0f277",
   "metadata": {},
   "outputs": [],
   "source": [
    "Sales_taxes = .065\n",
    "\n",
    "Medicare_taxes = .01435\n",
    "\n",
    "My_income = 40000"
   ]
  },
  {
   "cell_type": "code",
   "execution_count": 3,
   "id": "3f13e079",
   "metadata": {},
   "outputs": [
    {
     "data": {
      "text/plain": [
       "2600.0"
      ]
     },
     "execution_count": 3,
     "metadata": {},
     "output_type": "execute_result"
    }
   ],
   "source": [
    "My_income * Sales_taxes"
   ]
  },
  {
   "cell_type": "code",
   "execution_count": 4,
   "id": "18b809bb",
   "metadata": {},
   "outputs": [
    {
     "data": {
      "text/plain": [
       "574.0"
      ]
     },
     "execution_count": 4,
     "metadata": {},
     "output_type": "execute_result"
    }
   ],
   "source": [
    "My_income * Medicare_taxes"
   ]
  },
  {
   "cell_type": "code",
   "execution_count": 7,
   "id": "eacfb152",
   "metadata": {},
   "outputs": [
    {
     "data": {
      "text/plain": [
       "36826"
      ]
     },
     "execution_count": 7,
     "metadata": {},
     "output_type": "execute_result"
    }
   ],
   "source": [
    "My_income - (2600)-(574)"
   ]
  },
  {
   "cell_type": "code",
   "execution_count": 18,
   "id": "c15056ec",
   "metadata": {},
   "outputs": [
    {
     "name": "stdout",
     "output_type": "stream",
     "text": [
      "hello world \n",
      "hello world again \n",
      "hello world two \thello world three\n"
     ]
    }
   ],
   "source": [
    "print(\"hello world \\nhello world again \\nhello world two \\thello world three\")"
   ]
  },
  {
   "cell_type": "code",
   "execution_count": 22,
   "id": "19cd312c",
   "metadata": {},
   "outputs": [
    {
     "ename": "NameError",
     "evalue": "name 'abcdefghiklmnop' is not defined",
     "output_type": "error",
     "traceback": [
      "\u001b[1;31m---------------------------------------------------------------------------\u001b[0m",
      "\u001b[1;31mNameError\u001b[0m                                 Traceback (most recent call last)",
      "Cell \u001b[1;32mIn[22], line 1\u001b[0m\n\u001b[1;32m----> 1\u001b[0m my_string \u001b[38;5;241m=\u001b[39m abcdefghiklmnop\n",
      "\u001b[1;31mNameError\u001b[0m: name 'abcdefghiklmnop' is not defined"
     ]
    }
   ],
   "source": [
    "my_string = abcdefghiklmnop"
   ]
  },
  {
   "cell_type": "code",
   "execution_count": 24,
   "id": "5aea79fa",
   "metadata": {},
   "outputs": [],
   "source": [
    "mystring = 'abcdefgh'"
   ]
  },
  {
   "cell_type": "code",
   "execution_count": 25,
   "id": "0d6ab317",
   "metadata": {},
   "outputs": [
    {
     "data": {
      "text/plain": [
       "'abc'"
      ]
     },
     "execution_count": 25,
     "metadata": {},
     "output_type": "execute_result"
    }
   ],
   "source": [
    "mystring[:3]"
   ]
  },
  {
   "cell_type": "code",
   "execution_count": 26,
   "id": "e9ad6509",
   "metadata": {},
   "outputs": [],
   "source": [
    "mystring = \"abcdefgh\""
   ]
  },
  {
   "cell_type": "code",
   "execution_count": 27,
   "id": "1cb23f6f",
   "metadata": {},
   "outputs": [
    {
     "data": {
      "text/plain": [
       "'abcdefgh'"
      ]
     },
     "execution_count": 27,
     "metadata": {},
     "output_type": "execute_result"
    }
   ],
   "source": [
    "mystring"
   ]
  },
  {
   "cell_type": "code",
   "execution_count": 28,
   "id": "3cb82d73",
   "metadata": {},
   "outputs": [
    {
     "data": {
      "text/plain": [
       "8"
      ]
     },
     "execution_count": 28,
     "metadata": {},
     "output_type": "execute_result"
    }
   ],
   "source": [
    "len(mystring)"
   ]
  },
  {
   "cell_type": "code",
   "execution_count": 30,
   "id": "0bc68dbc",
   "metadata": {},
   "outputs": [
    {
     "data": {
      "text/plain": [
       "'b'"
      ]
     },
     "execution_count": 30,
     "metadata": {},
     "output_type": "execute_result"
    }
   ],
   "source": [
    "mystring[1]"
   ]
  },
  {
   "cell_type": "code",
   "execution_count": 31,
   "id": "f98f1319",
   "metadata": {},
   "outputs": [
    {
     "data": {
      "text/plain": [
       "'abcdefgh'"
      ]
     },
     "execution_count": 31,
     "metadata": {},
     "output_type": "execute_result"
    }
   ],
   "source": [
    "mystring[:]"
   ]
  },
  {
   "cell_type": "code",
   "execution_count": 32,
   "id": "8e4178c3",
   "metadata": {},
   "outputs": [
    {
     "data": {
      "text/plain": [
       "'cdefg'"
      ]
     },
     "execution_count": 32,
     "metadata": {},
     "output_type": "execute_result"
    }
   ],
   "source": [
    "mystring[2:7]"
   ]
  },
  {
   "cell_type": "code",
   "execution_count": 34,
   "id": "413f7248",
   "metadata": {},
   "outputs": [
    {
     "data": {
      "text/plain": [
       "'def'"
      ]
     },
     "execution_count": 34,
     "metadata": {},
     "output_type": "execute_result"
    }
   ],
   "source": [
    "mystring[3:-2]"
   ]
  },
  {
   "cell_type": "code",
   "execution_count": 35,
   "id": "62ccba25",
   "metadata": {},
   "outputs": [
    {
     "data": {
      "text/plain": [
       "'defg'"
      ]
     },
     "execution_count": 35,
     "metadata": {},
     "output_type": "execute_result"
    }
   ],
   "source": [
    "mystring[3:7]"
   ]
  },
  {
   "cell_type": "code",
   "execution_count": 36,
   "id": "b4d577a9",
   "metadata": {},
   "outputs": [
    {
     "data": {
      "text/plain": [
       "''"
      ]
     },
     "execution_count": 36,
     "metadata": {},
     "output_type": "execute_result"
    }
   ],
   "source": [
    "mystring[7:2]"
   ]
  },
  {
   "cell_type": "code",
   "execution_count": 41,
   "id": "e189cdc8",
   "metadata": {},
   "outputs": [
    {
     "name": "stdout",
     "output_type": "stream",
     "text": [
      "python rules!\n"
     ]
    }
   ],
   "source": [
    "print('python rules!')"
   ]
  },
  {
   "cell_type": "code",
   "execution_count": 45,
   "id": "567a09ae",
   "metadata": {},
   "outputs": [
    {
     "name": "stdout",
     "output_type": "stream",
     "text": [
      "python\n"
     ]
    }
   ],
   "source": [
    "print(\"python\")"
   ]
  },
  {
   "cell_type": "code",
   "execution_count": 48,
   "id": "227b9f4f",
   "metadata": {},
   "outputs": [],
   "source": [
    "a = \"python\""
   ]
  },
  {
   "cell_type": "code",
   "execution_count": 49,
   "id": "20b8402f",
   "metadata": {},
   "outputs": [],
   "source": [
    "b = \"rules!\""
   ]
  },
  {
   "cell_type": "code",
   "execution_count": 50,
   "id": "9d409be9",
   "metadata": {},
   "outputs": [
    {
     "data": {
      "text/plain": [
       "'pythonrules!'"
      ]
     },
     "execution_count": 50,
     "metadata": {},
     "output_type": "execute_result"
    }
   ],
   "source": [
    "a + b"
   ]
  },
  {
   "cell_type": "code",
   "execution_count": 53,
   "id": "a978afc1",
   "metadata": {},
   "outputs": [
    {
     "name": "stdout",
     "output_type": "stream",
     "text": [
      "pythonrules!\n"
     ]
    }
   ],
   "source": [
    "print(a+b)"
   ]
  },
  {
   "cell_type": "code",
   "execution_count": 55,
   "id": "69ad6ffa",
   "metadata": {},
   "outputs": [],
   "source": [
    "a = \"anaconda\""
   ]
  },
  {
   "cell_type": "code",
   "execution_count": 56,
   "id": "ccdd03dc",
   "metadata": {},
   "outputs": [
    {
     "name": "stdout",
     "output_type": "stream",
     "text": [
      "anacondarules!\n"
     ]
    }
   ],
   "source": [
    "print(a+b)"
   ]
  },
  {
   "cell_type": "code",
   "execution_count": 57,
   "id": "9740cf07",
   "metadata": {},
   "outputs": [
    {
     "data": {
      "text/plain": [
       "'c'"
      ]
     },
     "execution_count": 57,
     "metadata": {},
     "output_type": "execute_result"
    }
   ],
   "source": [
    "mystring[2]"
   ]
  },
  {
   "cell_type": "code",
   "execution_count": 62,
   "id": "0a1d12bf",
   "metadata": {},
   "outputs": [
    {
     "data": {
      "text/plain": [
       "'canaconda'"
      ]
     },
     "execution_count": 62,
     "metadata": {},
     "output_type": "execute_result"
    }
   ],
   "source": [
    "mystring[2] + a "
   ]
  },
  {
   "cell_type": "code",
   "execution_count": 63,
   "id": "3c5360e2",
   "metadata": {},
   "outputs": [],
   "source": [
    "x = mystring[2] + a"
   ]
  },
  {
   "cell_type": "code",
   "execution_count": 64,
   "id": "6dea53b1",
   "metadata": {},
   "outputs": [
    {
     "data": {
      "text/plain": [
       "'canaconda'"
      ]
     },
     "execution_count": 64,
     "metadata": {},
     "output_type": "execute_result"
    }
   ],
   "source": [
    "x"
   ]
  },
  {
   "cell_type": "code",
   "execution_count": null,
   "id": "f48fb50c",
   "metadata": {},
   "outputs": [],
   "source": []
  }
 ],
 "metadata": {
  "kernelspec": {
   "display_name": "Python 3 (ipykernel)",
   "language": "python",
   "name": "python3"
  },
  "language_info": {
   "codemirror_mode": {
    "name": "ipython",
    "version": 3
   },
   "file_extension": ".py",
   "mimetype": "text/x-python",
   "name": "python",
   "nbconvert_exporter": "python",
   "pygments_lexer": "ipython3",
   "version": "3.11.4"
  }
 },
 "nbformat": 4,
 "nbformat_minor": 5
}
