{
 "cells": [
  {
   "cell_type": "code",
   "execution_count": 4,
   "id": "0348291f",
   "metadata": {},
   "outputs": [],
   "source": [
    "# dot product of vectors\n",
    "\n",
    "a = [1,2,2]\n",
    "b = [2,3,4]\n",
    "\n",
    "# Functions with NumPy.. Try to code function without NumPy and then code it with NumPy and time each. \n",
    "\n",
    "#https://numpy.org/doc/stable/reference/routines.math.html\n",
    "\n",
    "# magnitudes of numbers within vectors including negative numbers a = [-1,2,3,-7,9]\n",
    "\n",
    "#Learn NumPy.. with notebooks in canvas\n",
    "\n",
    "# NumPy allows you to create data sets/ matrices with arrays and columns \n",
    "\n",
    "#2d arrays learn about these (rows and columns are separated by commas when pulling information from the matrices or matrix?)\n",
    "\n",
    "# to find greater than amount in a matrix c = matrix c[c>5]  just do c>5  Boolean?\n",
    "\n",
    "# .dot function learning and .matmul \n",
    "\n",
    "#vectors and matrixes"
   ]
  },
  {
   "cell_type": "code",
   "execution_count": null,
   "id": "f2d2287b",
   "metadata": {},
   "outputs": [],
   "source": []
  }
 ],
 "metadata": {
  "kernelspec": {
   "display_name": "Python 3 (ipykernel)",
   "language": "python",
   "name": "python3"
  },
  "language_info": {
   "codemirror_mode": {
    "name": "ipython",
    "version": 3
   },
   "file_extension": ".py",
   "mimetype": "text/x-python",
   "name": "python",
   "nbconvert_exporter": "python",
   "pygments_lexer": "ipython3",
   "version": "3.11.4"
  }
 },
 "nbformat": 4,
 "nbformat_minor": 5
}
