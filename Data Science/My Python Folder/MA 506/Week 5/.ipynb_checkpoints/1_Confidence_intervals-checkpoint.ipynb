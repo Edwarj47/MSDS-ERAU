{
 "cells": [
  {
   "cell_type": "code",
   "execution_count": 1,
   "id": "ec2e50d1",
   "metadata": {},
   "outputs": [],
   "source": [
    "import numpy as np\n",
    "import matplotlib.pyplot as plt\n",
    "import scipy.stats"
   ]
  },
  {
   "cell_type": "markdown",
   "id": "521b8e4f",
   "metadata": {},
   "source": [
    "Estimation of uncertainty in our predictions while doing regression is an activity of interest for many reasons such as understanding how confident we are about our prediction $\\hat{y}$ at a given $x$ value. In this exercise, we will learn how to esimtate the mulitple measures of uncertainty in a linear regression model."
   ]
  },
  {
   "cell_type": "markdown",
   "id": "b7e147da",
   "metadata": {},
   "source": [
    "# Inference on Regression Coefficients: $\\beta$"
   ]
  },
  {
   "cell_type": "markdown",
   "id": "2501bd75",
   "metadata": {},
   "source": [
    "## 1 $\\mathbb{E}[\\hat{\\beta}]$"
   ]
  },
  {
   "cell_type": "markdown",
   "id": "4fcaff82",
   "metadata": {},
   "source": [
    "In this first section, we estimate the mean and the variance of the estimated coefficients of the linear regression model ($\\beta$).\n",
    "\n",
    "Again going back to the standard linear model\n",
    "\n",
    "$$\n",
    "Y = X\\beta + \\epsilon; \\quad \\epsilon \\sim N(0,\\sigma^2I)\\tag{1}\n",
    "$$\n",
    "\n",
    "Assuming X to be deterministic and $\\beta$ to be the fixed but unknown set of weights, when we take expectation over the sampling distribution on both sides of (1) we get\n",
    "$$\n",
    "\\mathbb{E}[Y] = X\\beta\\tag{2}\n",
    "$$\n",
    "\n",
    "Also, recalling from previous exercises the OLS solution for $\\beta$:\n",
    "\n",
    "$$\\hat{\\beta} = (X^TX)^{-1}X^TY$$\n",
    "\n",
    "Hence we have:\n",
    "\n",
    "\\begin{align}\n",
    "\\mathbb{E}[\\hat{\\beta}] &= \\mathbb{E}[(X^TX)^{-1}X^TY]\\\\\n",
    "&= (X^TX)^{-1}X^T \\mathbb{E}[Y]\\\\\n",
    "&= (X^TX)^{-1}X^TX\\beta, \\quad \\text{from (2)}\\\\\n",
    "&= \\beta \\tag{3}\n",
    "\\end{align}\n",
    "\n",
    "**** $\\textbf{Since $\\mathbb{E}[\\hat{\\beta}] = \\beta$, hence the estimate $\\hat{\\beta}$ is an unbiased estimate}$. Hence, with enough samples, the sample estimate $\\hat{\\beta}$ tends to the true population weight $\\beta$  \n",
    "\n"
   ]
  },
  {
   "cell_type": "markdown",
   "id": "e14ea55a",
   "metadata": {},
   "source": [
    "## 2 $\\widehat{st.dev.}(\\hat{\\beta})$\n",
    "\n",
    "From homoscedasticity and assumption of no correlation, we have: $Cov(Y) = \\sigma^2I$\n",
    "\n",
    "Additionally, since $\\hat{\\beta} = (X^TX)^{-1}X^TY$, we have\n",
    "\n",
    "$$Cov(\\hat{\\beta}) = (X^TX)^{-1}X^T Cov(y) X (X^TX)^{-1} = \\sigma^2(X^TX)^{-1}$$\n",
    "\n",
    "which gives \n",
    "$$st.dev(\\hat{\\beta_i}) = \\sqrt{i^{th}\\text{ diagonal entry of }Cov(\\hat{\\beta})} = \\sigma\\sqrt{(X^TX)^{-1}_{ii}}  $$\n",
    "\n",
    "and hence\n",
    "\n",
    "$$\\widehat{st.dev}(\\hat{\\beta_i}) = \\hat{\\sigma}\\sqrt{(X^TX)^{-1}_{ii}} \\tag{4}$$\n",
    "\n",
    "From lecture on Regression diagnostics\n",
    "\n",
    "$$\\hat{\\sigma}^2 \\equiv \\frac{||Y - \\hat{Y}||_2^2}{n-p} = \\frac{||(I - H)Y||_2^2}{n-p}$$\n"
   ]
  },
  {
   "cell_type": "markdown",
   "id": "3074458f",
   "metadata": {},
   "source": [
    "## 3 Confidence Interval (CI) for $\\hat{\\beta}$"
   ]
  },
  {
   "cell_type": "markdown",
   "id": "ac6e00bd",
   "metadata": {},
   "source": [
    "Under the assumption $\\epsilon \\sim N(0,\\sigma^2I)$, $\\textbf{$100(1-\\alpha)\\%$ confidence interval for $\\beta_i$}$ is\n",
    "\n",
    "$$\n",
    "\\hat{\\beta}_i \\pm \\widehat{st.dev}(\\hat{\\beta}_i) \\cdot t \\Big(1 - \\frac{\\alpha}{2};n-p\\Big)\n",
    "$$\n",
    "\n",
    "Here:\n",
    "1. n: number of samples\n",
    "2. p: number of regression parameters\n",
    "2. $t(q;m)$: 100qth percentile of the t-distribution with m degrees of freedom. Hence if we want 95\\% CI, we have\n",
    "$$\n",
    "100(1 - \\alpha) = 95 \\implies \\alpha = 0.05 \\tag{5}\n",
    "$$\n",
    "\n",
    "$\\textbf{Please Note}$:\n",
    "\n",
    "1. These $100(1-\\alpha)\\%$ intervals assume errors are independent, normally distributed and have constant variance\n",
    "2. However, these intervals are fairly robust to non-normality\n",
    "3. On the other hand, very sensitive to correlated errors"
   ]
  },
  {
   "cell_type": "markdown",
   "id": "0fe8ed05",
   "metadata": {},
   "source": [
    "## Generating data"
   ]
  },
  {
   "cell_type": "code",
   "execution_count": 2,
   "id": "bd2d58c4",
   "metadata": {},
   "outputs": [
    {
     "data": {
      "image/png": "[encoded data removed]",
      "text/plain": [
       "<Figure size 640x480 with 1 Axes>"
      ]
     },
     "metadata": {},
     "output_type": "display_data"
    }
   ],
   "source": [
    "np.random.seed(0)\n",
    "x = np.linspace(0,6.14,100)\n",
    "y = np.sin(x)\n",
    "err = np.random.randn(len(x))\n",
    "y_noisy = y+err\n",
    "plt.scatter(x,y_noisy)\n",
    "plt.show()"
   ]
  },
  {
   "cell_type": "markdown",
   "id": "4c5501f4",
   "metadata": {},
   "source": [
    "### Fitting a high degree polynomial"
   ]
  },
  {
   "cell_type": "markdown",
   "id": "c18debb7",
   "metadata": {},
   "source": [
    "$$y = \\beta_0 + \\beta_1x + \\beta_2x^2 + \\beta_3x^3 + \\beta_4x^4 + \\beta_5x^5 + \\beta_6x^6 + \\beta_7x^7$$"
   ]
  },
  {
   "cell_type": "code",
   "execution_count": 3,
   "id": "036e60c6",
   "metadata": {},
   "outputs": [
    {
     "data": {
      "text/plain": [
       "array([[   1,    1,    1,    1,    1,    1,    1,    1],\n",
       "       [   1,    2,    4,    8,   16,   32,   64,  128],\n",
       "       [   1,    3,    9,   27,   81,  243,  729, 2187]])"
      ]
     },
     "execution_count": 3,
     "metadata": {},
     "output_type": "execute_result"
    }
   ],
   "source": [
    "## compute variance\n",
    "\n",
    "def poly_power(x,n):\n",
    "    X = []\n",
    "    for i in x:\n",
    "        temp = []\n",
    "        for j in range(n+1):\n",
    "            temp.append(i**j)\n",
    "                \n",
    "        X.append(temp)\n",
    "    return np.array(X)\n",
    "poly_power([1,2,3],n = 7)"
   ]
  },
  {
   "cell_type": "code",
   "execution_count": 4,
   "id": "dc27ac5e",
   "metadata": {},
   "outputs": [
    {
     "data": {
      "text/plain": [
       "(100, 8)"
      ]
     },
     "execution_count": 4,
     "metadata": {},
     "output_type": "execute_result"
    }
   ],
   "source": [
    "X = poly_power(x,n = 7)\n",
    "X.shape"
   ]
  },
  {
   "cell_type": "markdown",
   "id": "54b8336d",
   "metadata": {},
   "source": [
    "### Computing $\\hat{\\beta}$ and plotting the prediction"
   ]
  },
  {
   "cell_type": "code",
   "execution_count": 5,
   "id": "c2034b18",
   "metadata": {},
   "outputs": [
    {
     "data": {
      "text/plain": [
       "array([ 1.52611085e+00, -3.05544560e+00,  5.28548360e+00, -3.78386619e+00,\n",
       "        1.32920266e+00, -2.59146085e-01,  2.74042626e-02, -1.22145870e-03])"
      ]
     },
     "execution_count": 5,
     "metadata": {},
     "output_type": "execute_result"
    }
   ],
   "source": [
    "beta = np.linalg.inv(X.T.dot(X)).dot(X.T.dot(y_noisy))\n",
    "beta"
   ]
  },
  {
   "cell_type": "code",
   "execution_count": 6,
   "id": "816b0e21",
   "metadata": {},
   "outputs": [
    {
     "data": {
      "image/png": "[encoded data removed]",
      "text/plain": [
       "<Figure size 640x480 with 1 Axes>"
      ]
     },
     "metadata": {},
     "output_type": "display_data"
    }
   ],
   "source": [
    "pred = X.dot(beta)\n",
    "## plotting the prediction\n",
    "plt.plot(X[:,1],pred,color = 'r')\n",
    "plt.scatter(X[:,1],y_noisy)\n",
    "plt.show()"
   ]
  },
  {
   "cell_type": "markdown",
   "id": "60ed911e",
   "metadata": {},
   "source": [
    "### Computing $\\hat{\\sigma}$"
   ]
  },
  {
   "cell_type": "code",
   "execution_count": 7,
   "id": "9e006fee",
   "metadata": {},
   "outputs": [
    {
     "data": {
      "text/plain": [
       "0.955884819139047"
      ]
     },
     "execution_count": 7,
     "metadata": {},
     "output_type": "execute_result"
    }
   ],
   "source": [
    "H = X.dot(np.linalg.inv(X.T.dot(X))).dot(X.T)\n",
    "hii = np.diag(H)\n",
    "e = y_noisy - pred\n",
    "var = np.linalg.norm(e)**2/(len(y_noisy) - 8)\n",
    "std = np.sqrt(var)\n",
    "std"
   ]
  },
  {
   "cell_type": "markdown",
   "id": "1ba31c00",
   "metadata": {},
   "source": [
    "### Computing $\\widehat{st.dev}(\\hat{\\beta_i})$"
   ]
  },
  {
   "cell_type": "code",
   "execution_count": 8,
   "id": "4d38b9fa",
   "metadata": {},
   "outputs": [
    {
     "data": {
      "text/plain": [
       "array([6.58633694e-01, 4.03743832e+00, 7.84205699e+00, 6.68695362e+00,\n",
       "       2.90217964e+00, 6.69360339e-01, 7.81044046e-02, 3.62502850e-03])"
      ]
     },
     "execution_count": 8,
     "metadata": {},
     "output_type": "execute_result"
    }
   ],
   "source": [
    "std_beta = std*np.sqrt(np.diag(np.linalg.inv(X.T.dot(X))))\n",
    "std_beta"
   ]
  },
  {
   "cell_type": "markdown",
   "id": "40697324",
   "metadata": {},
   "source": [
    "### Computing $\\widehat{st.dev}(\\hat{\\beta_i})\\cdot t \\Big(1 - \\frac{\\alpha}{2};n-p\\Big)$ for all i"
   ]
  },
  {
   "cell_type": "code",
   "execution_count": 9,
   "id": "2cf8e7d5",
   "metadata": {},
   "outputs": [],
   "source": [
    "confidence = 0.95\n",
    "alpha = 0.05\n",
    "stdev_t = std_beta*scipy.stats.t.ppf(1 - alpha/2.,len(y_noisy) - 8)"
   ]
  },
  {
   "cell_type": "markdown",
   "id": "fb5216a0",
   "metadata": {},
   "source": [
    "### Computing $\\hat{\\beta}_i \\pm \\widehat{st.dev}(\\hat{\\beta}_i) \\cdot t \\Big(1 - \\frac{\\alpha}{2};n-p\\Big)$"
   ]
  },
  {
   "cell_type": "code",
   "execution_count": 10,
   "id": "419ff893",
   "metadata": {},
   "outputs": [
    {
     "name": "stdout",
     "output_type": "stream",
     "text": [
      "Interval for beta is: \n",
      "[0.22,2.83]\n",
      "[-11.07,4.96]\n",
      "[-10.29,20.86]\n",
      "[-17.06,9.5]\n",
      "[-4.43,7.09]\n",
      "[-1.59,1.07]\n",
      "[-0.13,0.18]\n",
      "[-0.01,0.01]\n"
     ]
    }
   ],
   "source": [
    "print('Interval for beta is: ')\n",
    "for i in range(len(beta)):\n",
    "    low = np.round(beta[i]-stdev_t[i],2)\n",
    "    high = np.round(beta[i]+stdev_t[i],2)\n",
    "    print(f'[{low},{high}]')"
   ]
  },
  {
   "cell_type": "markdown",
   "id": "6b061187",
   "metadata": {},
   "source": [
    "### <mark style=\"background-color: #FFFF00\">Exercise</mark> "
   ]
  },
  {
   "cell_type": "markdown",
   "id": "75ec5f3c",
   "metadata": {},
   "source": [
    "1. What can you infer from these intervals ?\n",
    "2. Fit $y = \\beta_0 + \\beta_1x + \\beta_2x^2 + \\beta_3 sin(x)$ to the same data and infer the 95% confidence intervals for all parameters involved"
   ]
  },
  {
   "cell_type": "code",
   "execution_count": null,
   "id": "585f0b5f",
   "metadata": {},
   "outputs": [],
   "source": []
  }
 ],
 "metadata": {
  "kernelspec": {
   "display_name": "Python 3 (ipykernel)",
   "language": "python",
   "name": "python3"
  },
  "language_info": {
   "codemirror_mode": {
    "name": "ipython",
    "version": 3
   },
   "file_extension": ".py",
   "mimetype": "text/x-python",
   "name": "python",
   "nbconvert_exporter": "python",
   "pygments_lexer": "ipython3",
   "version": "3.11.4"
  }
 },
 "nbformat": 4,
 "nbformat_minor": 5
}
