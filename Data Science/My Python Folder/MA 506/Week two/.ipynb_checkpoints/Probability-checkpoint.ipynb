{
 "cells": [
  {
   "cell_type": "markdown",
   "metadata": {},
   "source": [
    "# MA 506 Probability and Statistical Inference"
   ]
  },
  {
   "cell_type": "markdown",
   "metadata": {},
   "source": [
    "Some basic concepts:\n",
    "\n",
    "1. **Probability (P)**: Probability is a measure of how likely can an event occur. The sum of the probabilities of all possible events always sum to 1.\n",
    "2. **Random Experiment**: A Random Experiment is an experiment, trial, or observation that can be repeated numerous times under the same conditions. The outcome of an individual random experiment must be independent and identically distributed. It must in no way be affected by any previous outcome and cannot be predicted with certainty.\n",
    "3. **Sample Space ($\\Omega$)**: In probability theory, the sample space (also called sample\n",
    "description space or possibility space) of an experiment or random trial is the set of all\n",
    "possible outcomes or results of that experiment. For example for a single coin toss: $\\Omega = \\{H,T \\}, \\text{ and } P(H)+P(T) = 1$\n",
    "4. **Events**: Subset of a sample space. Referring to the experiment of tossing the coin, the possible events include $E = \\{H\\}$ and $E = \\{T\\}$. Events can be of the following types (For some events A and B)$\\\\$\n",
    "$\\hspace{0.01in}$- **Dependent events**: \n",
    "$$ P(A\\ and\\ B\\ both\\ occur) = P(A\\ occur|\\ B\\ has\\ occured)P(B\\ occur)$$\n",
    "\n",
    "$\\hspace{0.3in}$- **Independent events**: \n",
    "$$ P(A\\ and\\ B\\ both\\ occur) = P(A\\ occur)P(B\\ occur)$$\n",
    "\n",
    "$\\hspace{0.3in}$- **Mutually exclusive events**: \n",
    "$$ P(A\\ and\\ B\\ both\\ occur) = 0$$\n",
    "\n",
    "5. **Random variable**: It is a real valued function of the outcome of an experiment. For example for the coin toss experiment we can define a random variable as follows\n",
    "\n",
    "$$X(\\omega): \\Omega \\to \\mathbb{R}$$\n",
    "$$\\begin{equation}\n",
    "X(\\omega)=\n",
    "    \\begin{cases}\n",
    "        1 & \\omega = \\{H\\}\\\\\n",
    "        0 & \\omega = \\{T\\}\\\\\n",
    "    \\end{cases}\n",
    "\\end{equation}$$"
   ]
  },
  {
   "cell_type": "code",
   "execution_count": 1,
   "metadata": {},
   "outputs": [],
   "source": [
    "import numpy as np\n",
    "from matplotlib.pyplot import *"
   ]
  },
  {
   "cell_type": "markdown",
   "metadata": {},
   "source": [
    "# Probability basics"
   ]
  },
  {
   "cell_type": "markdown",
   "metadata": {},
   "source": [
    "Here we will use simulations to understand different probability concepts\n",
    "\n",
    "1. Estimating probabilies of an event from simulations\n",
    "2. Compute Conditional probabilites\n",
    "3. Bayes Theorem"
   ]
  },
  {
   "cell_type": "markdown",
   "metadata": {},
   "source": [
    "## 1 Coin toss experiment"
   ]
  },
  {
   "cell_type": "markdown",
   "metadata": {},
   "source": [
    "Suppose you are doing an experiment where you count the number of heads when you toss a coin 100 times. For generating this data I am using a probability of heads as 0.5."
   ]
  },
  {
   "cell_type": "code",
   "execution_count": 7,
   "metadata": {},
   "outputs": [
    {
     "data": {
      "text/plain": [
       "52"
      ]
     },
     "execution_count": 7,
     "metadata": {},
     "output_type": "execute_result"
    }
   ],
   "source": [
    "X = np.random.binomial(100,p=0.5) \n",
    "X"
   ]
  },
  {
   "cell_type": "markdown",
   "metadata": {},
   "source": [
    "Now, suppose you repeat this experiment 1000 times"
   ]
  },
  {
   "cell_type": "code",
   "execution_count": 8,
   "metadata": {},
   "outputs": [
    {
     "data": {
      "text/plain": [
       "1000"
      ]
     },
     "execution_count": 8,
     "metadata": {},
     "output_type": "execute_result"
    }
   ],
   "source": [
    "X = np.random.binomial(100,p=0.5,size=1000)\n",
    "len(X)"
   ]
  },
  {
   "cell_type": "markdown",
   "metadata": {},
   "source": [
    "Using these 1000 observations we want to estimate what was the probability of Heads turning up (beacause in reality we wont know if p was 0.4 or 0.5 or something else..)"
   ]
  },
  {
   "cell_type": "markdown",
   "metadata": {},
   "source": [
    "### 1.1 Point estimate of heads"
   ]
  },
  {
   "cell_type": "code",
   "execution_count": 9,
   "metadata": {},
   "outputs": [
    {
     "data": {
      "text/plain": [
       "0.49838"
      ]
     },
     "execution_count": 9,
     "metadata": {},
     "output_type": "execute_result"
    }
   ],
   "source": [
    "## Estimate of probability of heads from the experiment\n",
    "prob = np.mean(X/100)   ### because X/100 is the proportion of head obtained in each experiment\n",
    "prob"
   ]
  },
  {
   "cell_type": "markdown",
   "metadata": {},
   "source": [
    "Question: How good it is ?"
   ]
  },
  {
   "cell_type": "code",
   "execution_count": 10,
   "metadata": {},
   "outputs": [
    {
     "data": {
      "image/png": "[encoded data removed]",
      "text/plain": [
       "<Figure size 640x480 with 1 Axes>"
      ]
     },
     "metadata": {},
     "output_type": "display_data"
    }
   ],
   "source": [
    "hist(X,density=True)\n",
    "show()"
   ]
  },
  {
   "cell_type": "markdown",
   "metadata": {},
   "source": [
    "There is a whole distribution that is telling us something. However the mean is just giving us a point estimate. Can we do better ?"
   ]
  },
  {
   "cell_type": "markdown",
   "metadata": {},
   "source": [
    "## 2 Conditional probabilites"
   ]
  },
  {
   "cell_type": "markdown",
   "metadata": {},
   "source": [
    "Q: Find the probability that number of heads occuring is > 55 ?"
   ]
  },
  {
   "cell_type": "markdown",
   "metadata": {},
   "source": [
    "#### $P(Number of heads > 55)$ = $\\frac{Number\\ of\\ experiments\\ with\\ heads\\ greater\\ than\\ 55}{Total\\ number\\ of\\\n",
    "experiments}$"
   ]
  },
  {
   "cell_type": "code",
   "execution_count": 12,
   "metadata": {},
   "outputs": [
    {
     "data": {
      "text/plain": [
       "0.133"
      ]
     },
     "execution_count": 12,
     "metadata": {},
     "output_type": "execute_result"
    }
   ],
   "source": [
    "p1 = sum(X>55)/1000\n",
    "p1"
   ]
  },
  {
   "cell_type": "markdown",
   "metadata": {},
   "source": [
    "Q:Find the probability of number of heads > 55 given number of heads is greater than 50 ?"
   ]
  },
  {
   "cell_type": "markdown",
   "metadata": {},
   "source": [
    "P(Number of heads > 55 | Number of heads > 50) = $\\frac{P(Number\\ of\\ heads > 55\\ and\\ Number\\ of\\ heads > 50)}{P(Number\\ of\\ heads > 50)}$ = $\\frac{P(Number\\ of\\ heads > 55)}{P(Number\\ of\\ heads > 50)}$"
   ]
  },
  {
   "cell_type": "code",
   "execution_count": 1,
   "metadata": {},
   "outputs": [
    {
     "ename": "NameError",
     "evalue": "name 'X' is not defined",
     "output_type": "error",
     "traceback": [
      "\u001b[1;31m---------------------------------------------------------------------------\u001b[0m",
      "\u001b[1;31mNameError\u001b[0m                                 Traceback (most recent call last)",
      "Cell \u001b[1;32mIn[1], line 1\u001b[0m\n\u001b[1;32m----> 1\u001b[0m p1 \u001b[38;5;241m=\u001b[39m \u001b[38;5;28msum\u001b[39m(X\u001b[38;5;241m>\u001b[39m\u001b[38;5;241m55\u001b[39m)\u001b[38;5;241m/\u001b[39m\u001b[38;5;241m1000\u001b[39m\n\u001b[0;32m      2\u001b[0m p2 \u001b[38;5;241m=\u001b[39m \u001b[38;5;28msum\u001b[39m(X\u001b[38;5;241m>\u001b[39m\u001b[38;5;241m50\u001b[39m)\u001b[38;5;241m/\u001b[39m\u001b[38;5;241m1000\u001b[39m\n\u001b[0;32m      3\u001b[0m p2 \u001b[38;5;241m=\u001b[39m p1\u001b[38;5;241m/\u001b[39mp2\n",
      "\u001b[1;31mNameError\u001b[0m: name 'X' is not defined"
     ]
    }
   ],
   "source": [
    "p1 = sum(X>55)/1000\n",
    "p2 = sum(X>50)/1000\n",
    "p2 = p1/p2\n",
    "p2"
   ]
  },
  {
   "cell_type": "markdown",
   "metadata": {},
   "source": [
    "## 3 Bayes theorem"
   ]
  },
  {
   "cell_type": "markdown",
   "metadata": {},
   "source": [
    "Suppose in a city:\n",
    "\n",
    "1% of people have a certain genetic defect.\n",
    "\n",
    "90% of tests for the gene detect the defect (true positives).\n",
    "\n",
    "9.6% of tests for healthy people detect the defect (false positives).\n",
    "\n",
    "If a person gets a positive test result, what are the odds they actually have the genetic defect?"
   ]
  },
  {
   "cell_type": "markdown",
   "metadata": {},
   "source": [
    "### 3.1 Generating the population"
   ]
  },
  {
   "cell_type": "code",
   "execution_count": 20,
   "metadata": {},
   "outputs": [],
   "source": [
    "### Assuming 10000 people\n",
    "n = 10000\n",
    "defect = np.random.binomial(n,p=0.01)\n",
    "healthy = n - defect"
   ]
  },
  {
   "cell_type": "markdown",
   "metadata": {},
   "source": [
    "### 3.2 Testing the population"
   ]
  },
  {
   "cell_type": "code",
   "execution_count": 21,
   "metadata": {},
   "outputs": [],
   "source": [
    "## Number of people who have the defect and tested positive\n",
    "d_test_pos = np.random.binomial(defect, p = 0.9)\n",
    "## Number of people who are healthy and tested positive\n",
    "h_test_pos = np.random.binomial(healthy, p = 0.096)"
   ]
  },
  {
   "cell_type": "markdown",
   "metadata": {},
   "source": [
    "$$P(Have\\ genetic\\ defect\\ |\\ +\\ test\\ result) = \\frac{P(Have\\ genetic\\ defect\\ and\\ tested\\ positive)}{P(tested\\ positive)}$$"
   ]
  },
  {
   "cell_type": "code",
   "execution_count": 22,
   "metadata": {},
   "outputs": [
    {
     "data": {
      "text/plain": [
       "0.07804878048780488"
      ]
     },
     "execution_count": 22,
     "metadata": {},
     "output_type": "execute_result"
    }
   ],
   "source": [
    "p1 = d_test_pos/n\n",
    "p2 = (d_test_pos+h_test_pos)/n\n",
    "Prob = p1/p2\n",
    "Prob"
   ]
  },
  {
   "cell_type": "markdown",
   "metadata": {},
   "source": [
    "### 3.3 Computing by bayes theorem"
   ]
  },
  {
   "cell_type": "markdown",
   "metadata": {},
   "source": [
    "$$P(Have\\ genetic\\ defect\\ |\\ +\\ test\\ result) = \\frac{P(+\\ test\\ result\\ |\\ Have\\ genetic\\ defect)\\ \\cdot\\ P(Have\\ genetic\\ defect)}{P(+\\ test\\ result)}$$"
   ]
  },
  {
   "cell_type": "markdown",
   "metadata": {},
   "source": [
    "P(+ test result) = P(+ test result | defect)P(defect) + P(+ test result | healthy)P(healthy)\n",
    "\n",
    "Now we have all of the information we need to put into the equation:\n",
    "        \n",
    "     P(Have genetic defect | + test result) = (.9 * .01) / (.9 * .01 + .096 * .99) = 0.0865"
   ]
  },
  {
   "cell_type": "code",
   "execution_count": null,
   "metadata": {},
   "outputs": [],
   "source": []
  },
  {
   "cell_type": "markdown",
   "metadata": {},
   "source": [
    "### <mark style=\"background-color: #FFFF00\">Exercise</mark>"
   ]
  },
  {
   "cell_type": "markdown",
   "metadata": {},
   "source": [
    "It is know that\n",
    "\n",
    "1. Probability of having cancer: 0.5%\n",
    "2. Porbability of testing positive if you have cancer: 85%\n",
    "3. Probability of testing negative if you don't have cancer: 92.5%\n",
    "\n",
    "\n",
    "Find: \n",
    "\n",
    "$$\n",
    " P(Having\\ cancer\\ |\\ Tested\\ positive) = ?\n",
    "$$\n",
    "\n",
    "using simulation and then verify it using hand computation"
   ]
  },
  {
   "cell_type": "markdown",
   "metadata": {},
   "source": [
    "## 4 Widely used probability distributions"
   ]
  },
  {
   "cell_type": "markdown",
   "metadata": {},
   "source": [
    "### 4.1 Gaussian/Normal distribution"
   ]
  },
  {
   "cell_type": "markdown",
   "metadata": {},
   "source": [
    "For a given value of mean ($\\mu$) and variance ($\\sigma^2$), the probability density function of a normal random variable x is given as:\n",
    "\n",
    "$$p(x|\\mu, \\sigma^2) = \\frac{1}{\\sqrt{2 \\pi \\sigma^2}}e^{-\\frac{(x-\\mu)^2}{2 \\sigma^2}}$$"
   ]
  },
  {
   "cell_type": "code",
   "execution_count": 23,
   "metadata": {},
   "outputs": [
    {
     "data": {
      "image/png": "[encoded data removed]",
      "text/plain": [
       "<Figure size 640x480 with 1 Axes>"
      ]
     },
     "metadata": {},
     "output_type": "display_data"
    }
   ],
   "source": [
    "from scipy.stats import norm\n",
    "x = np.linspace(-5,5, 100)\n",
    "rv = norm(0,1)\n",
    "plot(x, rv.pdf(x), 'k-', lw=2, label='frozen pdf')\n",
    "show()"
   ]
  },
  {
   "cell_type": "markdown",
   "metadata": {},
   "source": [
    "#### Getting samples from population"
   ]
  },
  {
   "cell_type": "code",
   "execution_count": 24,
   "metadata": {},
   "outputs": [],
   "source": [
    "mu, sigma = 0, 0.1 # mean and standard deviation\n",
    "s = np.random.normal(mu, sigma, 10000)"
   ]
  },
  {
   "cell_type": "code",
   "execution_count": 25,
   "metadata": {},
   "outputs": [
    {
     "data": {
      "image/png": "[encoded data removed]",
      "text/plain": [
       "<Figure size 640x480 with 1 Axes>"
      ]
     },
     "metadata": {},
     "output_type": "display_data"
    }
   ],
   "source": [
    "hist(s,bins = 100,label = 'histogram')\n",
    "show()"
   ]
  },
  {
   "cell_type": "code",
   "execution_count": 26,
   "metadata": {},
   "outputs": [
    {
     "data": {
      "image/png": "[encoded data removed]",
      "text/plain": [
       "<Figure size 640x480 with 1 Axes>"
      ]
     },
     "metadata": {},
     "output_type": "display_data"
    }
   ],
   "source": [
    "hist(s,bins = 100,density=True,label = 'histogram')\n",
    "rv = norm(mu,sigma)\n",
    "x = np.linspace(-1,1, 100)\n",
    "plot(x, rv.pdf(x), 'k-', lw=2, label='frozen pdf')\n",
    "legend()\n",
    "show()"
   ]
  },
  {
   "cell_type": "code",
   "execution_count": null,
   "metadata": {},
   "outputs": [],
   "source": []
  },
  {
   "cell_type": "markdown",
   "metadata": {},
   "source": [
    "#### Getting population parameters from samples"
   ]
  },
  {
   "cell_type": "code",
   "execution_count": 27,
   "metadata": {},
   "outputs": [
    {
     "data": {
      "text/plain": [
       "0.0001583264872457258"
      ]
     },
     "execution_count": 27,
     "metadata": {},
     "output_type": "execute_result"
    }
   ],
   "source": [
    "np.mean(s)"
   ]
  },
  {
   "cell_type": "code",
   "execution_count": 28,
   "metadata": {},
   "outputs": [
    {
     "data": {
      "text/plain": [
       "0.09889287842552626"
      ]
     },
     "execution_count": 28,
     "metadata": {},
     "output_type": "execute_result"
    }
   ],
   "source": [
    "np.std(s)"
   ]
  },
  {
   "cell_type": "markdown",
   "metadata": {},
   "source": [
    "### <mark style=\"background-color: #FFFF00\">Exercise</mark> \n",
    "\n",
    "For continuous uniform distribution: C[0,1]\n",
    "\n",
    "1. Plot the pdf\n",
    "2. Sample 10000 samples from the distribution\n",
    "3. Plot the histogram with pdf over it"
   ]
  },
  {
   "cell_type": "code",
   "execution_count": null,
   "metadata": {},
   "outputs": [],
   "source": []
  }
 ],
 "metadata": {
  "kernelspec": {
   "display_name": "Python 3 (ipykernel)",
   "language": "python",
   "name": "python3"
  },
  "language_info": {
   "codemirror_mode": {
    "name": "ipython",
    "version": 3
   },
   "file_extension": ".py",
   "mimetype": "text/x-python",
   "name": "python",
   "nbconvert_exporter": "python",
   "pygments_lexer": "ipython3",
   "version": "3.11.4"
  }
 },
 "nbformat": 4,
 "nbformat_minor": 2
}
