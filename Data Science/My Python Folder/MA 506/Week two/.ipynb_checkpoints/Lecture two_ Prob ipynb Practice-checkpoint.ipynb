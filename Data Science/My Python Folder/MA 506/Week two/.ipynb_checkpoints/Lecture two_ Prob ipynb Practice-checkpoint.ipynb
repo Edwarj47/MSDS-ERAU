{
 "cells": [
  {
   "cell_type": "code",
   "execution_count": 1,
   "id": "a7494dac",
   "metadata": {},
   "outputs": [
    {
     "data": {
      "text/plain": [
       "0.10404"
      ]
     },
     "execution_count": 1,
     "metadata": {},
     "output_type": "execute_result"
    }
   ],
   "source": [
    "(.9*.01)+(.096*.99)"
   ]
  },
  {
   "cell_type": "code",
   "execution_count": 2,
   "id": "357a45a6",
   "metadata": {},
   "outputs": [],
   "source": [
    "import numpy as np\n",
    "from matplotlib.pyplot import *"
   ]
  },
  {
   "cell_type": "code",
   "execution_count": 6,
   "id": "e64888cf",
   "metadata": {
    "scrolled": true
   },
   "outputs": [
    {
     "data": {
      "text/plain": [
       "1000"
      ]
     },
     "execution_count": 6,
     "metadata": {},
     "output_type": "execute_result"
    }
   ],
   "source": [
    "x = np.random.binomial(100,p=.5,size=1000)\n",
    "len(x)"
   ]
  },
  {
   "cell_type": "code",
   "execution_count": 11,
   "id": "afbb8169",
   "metadata": {},
   "outputs": [
    {
     "data": {
      "text/plain": [
       "0.5010399999999999"
      ]
     },
     "execution_count": 11,
     "metadata": {},
     "output_type": "execute_result"
    }
   ],
   "source": [
    "prob=np.mean(x/100)\n",
    "prob"
   ]
  },
  {
   "cell_type": "code",
   "execution_count": 12,
   "id": "a70fff66",
   "metadata": {},
   "outputs": [
    {
     "data": {
      "image/png": "[encoded data removed]",
      "text/plain": [
       "<Figure size 640x480 with 1 Axes>"
      ]
     },
     "metadata": {},
     "output_type": "display_data"
    }
   ],
   "source": [
    "hist(x,density=True)\n",
    "show()"
   ]
  },
  {
   "cell_type": "code",
   "execution_count": 15,
   "id": "f7ebaa7b",
   "metadata": {},
   "outputs": [
    {
     "data": {
      "text/plain": [
       "0.141"
      ]
     },
     "execution_count": 15,
     "metadata": {},
     "output_type": "execute_result"
    }
   ],
   "source": [
    "p1=sum(x>55)/1000\n",
    "p1"
   ]
  },
  {
   "cell_type": "code",
   "execution_count": 17,
   "id": "3dcf5135",
   "metadata": {},
   "outputs": [
    {
     "data": {
      "text/plain": [
       "0.461"
      ]
     },
     "execution_count": 17,
     "metadata": {},
     "output_type": "execute_result"
    }
   ],
   "source": [
    "p1 = sum(x>55)/1000\n",
    "p2 = sum(x>50)/1000\n",
    "p1/p2\n",
    "p2"
   ]
  },
  {
   "cell_type": "code",
   "execution_count": 38,
   "id": "1e96c62f",
   "metadata": {},
   "outputs": [],
   "source": [
    "n = 1000\n",
    "defect = np.random.binomial(n,p=0.01)\n",
    "healthy = n - defect"
   ]
  },
  {
   "cell_type": "code",
   "execution_count": 41,
   "id": "9ff7c7ff",
   "metadata": {},
   "outputs": [],
   "source": [
    "d_test_pos = np.random.binomial(defect, p=0.9)\n",
    "h_test_pos = np.random.binomial(healthy, p = 0.096) "
   ]
  },
  {
   "cell_type": "code",
   "execution_count": 43,
   "id": "8bfc1afb",
   "metadata": {},
   "outputs": [
    {
     "data": {
      "text/plain": [
       "0.06666666666666667"
      ]
     },
     "execution_count": 43,
     "metadata": {},
     "output_type": "execute_result"
    }
   ],
   "source": [
    "p1 = d_test_pos/n\n",
    "p2 = (d_test_pos+h_test_pos)/n\n",
    "Prob = p1/p2\n",
    "Prob"
   ]
  },
  {
   "cell_type": "code",
   "execution_count": 45,
   "id": "1b367935",
   "metadata": {},
   "outputs": [
    {
     "data": {
      "text/plain": [
       "0.0865051903114187"
      ]
     },
     "execution_count": 45,
     "metadata": {},
     "output_type": "execute_result"
    }
   ],
   "source": [
    "(.9 * .01) / (.9 * .01 + .096 * .99)"
   ]
  },
  {
   "cell_type": "code",
   "execution_count": 66,
   "id": "0bd8b150",
   "metadata": {},
   "outputs": [],
   "source": [
    "n = 100000\n",
    "cancer = np.random.binomial(n,0.005)\n",
    "no_cancer = n - cancer"
   ]
  },
  {
   "cell_type": "code",
   "execution_count": 67,
   "id": "4493040e",
   "metadata": {},
   "outputs": [],
   "source": [
    "c_test_pos = np.random.binomial(cancer, p=0.85)\n",
    "c_test_neg = np.random.binomial(no_cancer, p=0.925)"
   ]
  },
  {
   "cell_type": "code",
   "execution_count": 68,
   "id": "0807eeb6",
   "metadata": {},
   "outputs": [
    {
     "data": {
      "text/plain": [
       "0.004665831425238692"
      ]
     },
     "execution_count": 68,
     "metadata": {},
     "output_type": "execute_result"
    }
   ],
   "source": [
    "p1 = c_test_pos/n\n",
    "p2 = (c_test_pos+c_test_neg)/n\n",
    "Prob = p1/p2\n",
    "Prob"
   ]
  },
  {
   "cell_type": "code",
   "execution_count": 69,
   "id": "b3bdb473",
   "metadata": {},
   "outputs": [
    {
     "data": {
      "text/plain": [
       "0.000480878026702874"
      ]
     },
     "execution_count": 69,
     "metadata": {},
     "output_type": "execute_result"
    }
   ],
   "source": [
    "(.085 * .005)/(.085 * .005 + .925 * .955)"
   ]
  },
  {
   "cell_type": "code",
   "execution_count": null,
   "id": "5ba11820",
   "metadata": {},
   "outputs": [],
   "source": []
  }
 ],
 "metadata": {
  "kernelspec": {
   "display_name": "Python 3 (ipykernel)",
   "language": "python",
   "name": "python3"
  },
  "language_info": {
   "codemirror_mode": {
    "name": "ipython",
    "version": 3
   },
   "file_extension": ".py",
   "mimetype": "text/x-python",
   "name": "python",
   "nbconvert_exporter": "python",
   "pygments_lexer": "ipython3",
   "version": "3.11.4"
  }
 },
 "nbformat": 4,
 "nbformat_minor": 5
}
