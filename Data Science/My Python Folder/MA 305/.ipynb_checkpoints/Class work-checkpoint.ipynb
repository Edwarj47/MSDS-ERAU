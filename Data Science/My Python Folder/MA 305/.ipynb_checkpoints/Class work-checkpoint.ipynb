{
 "cells": [
  {
   "cell_type": "code",
   "execution_count": 75,
   "id": "ab997dbe",
   "metadata": {},
   "outputs": [
    {
     "name": "stdout",
     "output_type": "stream",
     "text": [
      "{1, 2, 3, 4, 'c', 'a', 'b'}\n",
      "{1, 2, 3, 4, 'D', 'd'}\n"
     ]
    }
   ],
   "source": [
    "list1 = [1,2,3,4,\"a\",\"b\",\"c\"]\n",
    "a = set(list1)\n",
    "B= set([1,1,1,2,3,4,2,2,3,2, \"d\",\"D\"])\n",
    "print(a)\n",
    "print(B)"
   ]
  },
  {
   "cell_type": "code",
   "execution_count": 76,
   "id": "68f27cae",
   "metadata": {},
   "outputs": [
    {
     "name": "stdout",
     "output_type": "stream",
     "text": [
      "7 6\n"
     ]
    }
   ],
   "source": [
    "print(len(a), len(B))"
   ]
  },
  {
   "cell_type": "code",
   "execution_count": 77,
   "id": "37d49cfc",
   "metadata": {},
   "outputs": [
    {
     "name": "stdout",
     "output_type": "stream",
     "text": [
      "True False\n"
     ]
    }
   ],
   "source": [
    "print( 3 in a, \"x\" in a)"
   ]
  },
  {
   "cell_type": "code",
   "execution_count": 78,
   "id": "139c8cd4",
   "metadata": {},
   "outputs": [
    {
     "name": "stdout",
     "output_type": "stream",
     "text": [
      "False\n"
     ]
    }
   ],
   "source": [
    "print ( a <= B)"
   ]
  },
  {
   "cell_type": "code",
   "execution_count": 79,
   "id": "8f6652e0",
   "metadata": {},
   "outputs": [
    {
     "name": "stdout",
     "output_type": "stream",
     "text": [
      "{1, 2, 3, 4, 'c', 'D', 'd', 'a', 'b'}\n"
     ]
    }
   ],
   "source": [
    "print (a |B)"
   ]
  },
  {
   "cell_type": "code",
   "execution_count": 80,
   "id": "7b24d5b5",
   "metadata": {},
   "outputs": [
    {
     "name": "stdout",
     "output_type": "stream",
     "text": [
      "{1, 2, 3, 4}\n"
     ]
    }
   ],
   "source": [
    "print (a&B)"
   ]
  },
  {
   "cell_type": "code",
   "execution_count": 81,
   "id": "ba9f1e57",
   "metadata": {},
   "outputs": [
    {
     "name": "stdout",
     "output_type": "stream",
     "text": [
      "{'D', 'd'}\n"
     ]
    }
   ],
   "source": [
    "print(B-a)"
   ]
  },
  {
   "cell_type": "code",
   "execution_count": 82,
   "id": "3b2a913d",
   "metadata": {},
   "outputs": [
    {
     "ename": "SyntaxError",
     "evalue": "expected 'else' after 'if' expression (3130373115.py, line 5)",
     "output_type": "error",
     "traceback": [
      "\u001b[1;36m  Cell \u001b[1;32mIn[82], line 5\u001b[1;36m\u001b[0m\n\u001b[1;33m    return dup if a>=2\u001b[0m\n\u001b[1;37m           ^\u001b[0m\n\u001b[1;31mSyntaxError\u001b[0m\u001b[1;31m:\u001b[0m expected 'else' after 'if' expression\n"
     ]
    }
   ],
   "source": [
    "import numpy as np\n",
    "a = [10,20,30,20,10,50,60,40,80,50,40]\n",
    "set(a)\n",
    "for dup in a:\n",
    "    return dup if a>=2\n",
    "    \n"
   ]
  },
  {
   "cell_type": "code",
   "execution_count": 83,
   "id": "88f5807e",
   "metadata": {},
   "outputs": [
    {
     "name": "stdout",
     "output_type": "stream",
     "text": [
      "-2\n",
      "1\n",
      "-1871\n"
     ]
    }
   ],
   "source": [
    "def f(x):\n",
    "    fx = 1-2*x+3*x**2-4*x**3\n",
    "    return fx\n",
    "a = 1\n",
    "b = 0\n",
    "fa = f(a)\n",
    "fa1 = f(b)\n",
    "print(fa)\n",
    "print(fa1)\n",
    "print(f(8))"
   ]
  },
  {
   "cell_type": "code",
   "execution_count": 84,
   "id": "140d1140",
   "metadata": {},
   "outputs": [
    {
     "name": "stdout",
     "output_type": "stream",
     "text": [
      "((-0.2857142857142857+0.7953949089757174j), (-0.2857142857142857-0.7953949089757174j))\n"
     ]
    }
   ],
   "source": [
    "import math\n",
    "def root_quad(a,b,c):\n",
    "    d = b**2 - 4*a*c\n",
    "    if d >= 0:\n",
    "        x1=(-b+sqrt(d))/(2*a)\n",
    "        x2=(-b-sqrt(d))/(2*a)\n",
    "    else: \n",
    "        x1=complex(-b, math.sqrt(-d))/(2*a)\n",
    "        x2=complex(-b, -math.sqrt(-d))/(2*a)\n",
    "    return x1,x2\n",
    "\n",
    "print(root_quad(7,4,5))"
   ]
  },
  {
   "cell_type": "code",
   "execution_count": 98,
   "id": "f620d27a",
   "metadata": {},
   "outputs": [
    {
     "name": "stdout",
     "output_type": "stream",
     "text": [
      "((-0.625+1.0532687216470449j), (-0.625-1.0532687216470449j))\n"
     ]
    }
   ],
   "source": [
    "import math\n",
    "\n",
    "def root_quad(a,b,c):\n",
    "    d = b**2 - 4*a*c\n",
    "    if d >= 0:\n",
    "        x1=(-b+math.sqrt(d))/(2*a)\n",
    "        x2=(-b-math.sqrt(d))/(2*a)\n",
    "    else: \n",
    "        x1=complex(-b, math.sqrt(-d))/(2*a)\n",
    "        x2=complex(-b, -math.sqrt(-d))/(2*a)\n",
    "    return x1,x2\n",
    "print(root_quad(4,5,6))\n"
   ]
  },
  {
   "cell_type": "code",
   "execution_count": 100,
   "id": "3ecc30bb",
   "metadata": {},
   "outputs": [
    {
     "data": {
      "text/plain": [
       "(1.0, 1.0)"
      ]
     },
     "execution_count": 100,
     "metadata": {},
     "output_type": "execute_result"
    }
   ],
   "source": [
    "rq=root_quad\n",
    "rq(1,-2,1)"
   ]
  },
  {
   "cell_type": "code",
   "execution_count": 102,
   "id": "3e558f10",
   "metadata": {},
   "outputs": [
    {
     "data": {
      "text/plain": [
       "(1.0, 1.0)"
      ]
     },
     "execution_count": 102,
     "metadata": {},
     "output_type": "execute_result"
    }
   ],
   "source": [
    "root_quad(a=1,c=1,b=-2)\n",
    "root_quad(b=-2,a=1,c=1)\n",
    "root_quad(1,c=1,b=-2)\n",
    "#root_quad(b=-2,1,1) positional argument follows keyword argument"
   ]
  },
  {
   "cell_type": "code",
   "execution_count": 109,
   "id": "70092ba8",
   "metadata": {},
   "outputs": [],
   "source": [
    "f = 10; x0 = 87\n",
    "def newton_method(f, x0, Tol=1.e-5):\n",
    "    ...\n",
    "    r = ...\n",
    "    return r\n",
    "x = newton_method(f, 1)\n",
    "y = newton_method(f, x0, Tol=1.e-12)"
   ]
  },
  {
   "cell_type": "code",
   "execution_count": 110,
   "id": "47e10a96",
   "metadata": {},
   "outputs": [
    {
     "name": "stdout",
     "output_type": "stream",
     "text": [
      "1 2\n",
      "1 2\n",
      "3 2\n"
     ]
    }
   ],
   "source": [
    "def test_f():\n",
    "    x=1\n",
    "    print(x,y)\n",
    "y = 2\n",
    "test_f()\n",
    "x = 3\n",
    "test_f()\n",
    "print(x,y)"
   ]
  },
  {
   "cell_type": "code",
   "execution_count": 117,
   "id": "06017642",
   "metadata": {},
   "outputs": [
    {
     "name": "stdout",
     "output_type": "stream",
     "text": [
      "3\n",
      "3\n"
     ]
    }
   ],
   "source": [
    "def test_g():\n",
    "    global y \n",
    "    y += 1\n",
    "print(y)\n",
    "y=2\n",
    "test_g()\n",
    "print(y)\n"
   ]
  },
  {
   "cell_type": "code",
   "execution_count": 132,
   "id": "df3990e6",
   "metadata": {},
   "outputs": [
    {
     "name": "stdout",
     "output_type": "stream",
     "text": [
      "720\n"
     ]
    }
   ],
   "source": [
    "n = 6\n",
    "def factorial(n): \n",
    "    if n <= 1:\n",
    "        factn = 1\n",
    "    else: \n",
    "        factn = n*factorial(n-1)\n",
    "    return factn\n",
    "print(factorial(n))"
   ]
  },
  {
   "cell_type": "code",
   "execution_count": 133,
   "id": "f284a437",
   "metadata": {},
   "outputs": [
    {
     "name": "stdout",
     "output_type": "stream",
     "text": [
      "[1, 1, 2, 3, 5, 8, 13, 21, 34, 55, 89, 144, 233, 377, 610, 987]\n"
     ]
    }
   ],
   "source": [
    "n = 15\n",
    "fib = [1,1]\n",
    "for i in range(2,n+1):\n",
    "    fib.append(fib[i-1]+fib[i-2])\n",
    "print(fib)"
   ]
  },
  {
   "cell_type": "code",
   "execution_count": 134,
   "id": "eed58257",
   "metadata": {},
   "outputs": [
    {
     "name": "stdout",
     "output_type": "stream",
     "text": [
      "1 1 2 3 5 8 13 21 34 55 89 144 233 377 610 987"
     ]
    }
   ],
   "source": [
    "n = 15 \n",
    "a, b = 1, 1\n",
    "print(a,b,end='')\n",
    "for i in range(2,n+1):\n",
    "    a, b = b, a+b\n",
    "    print('',b, end='')"
   ]
  },
  {
   "cell_type": "code",
   "execution_count": 135,
   "id": "fb39e2e9",
   "metadata": {},
   "outputs": [
    {
     "name": "stdout",
     "output_type": "stream",
     "text": [
      " 1 1 2 3 5 8 13 21 34 55 89 144 233 377 610 987"
     ]
    }
   ],
   "source": [
    "def fibo(n):\n",
    "    if n <= 1:\n",
    "        return 1\n",
    "    else:\n",
    "        return fibo(n-1)+fibo(n-2)\n",
    "n = 15\n",
    "for i in range(n+1):\n",
    "    print('',fibo(i), end='')"
   ]
  },
  {
   "cell_type": "code",
   "execution_count": 145,
   "id": "96a34049",
   "metadata": {},
   "outputs": [
    {
     "name": "stdout",
     "output_type": "stream",
     "text": [
      "90\n"
     ]
    }
   ],
   "source": [
    "#double factorial...How?"
   ]
  },
  {
   "cell_type": "code",
   "execution_count": 168,
   "id": "1f1c11f1",
   "metadata": {},
   "outputs": [
    {
     "ename": "TypeError",
     "evalue": "unsupported operand type(s) for -: 'list' and 'int'",
     "output_type": "error",
     "traceback": [
      "\u001b[1;31m---------------------------------------------------------------------------\u001b[0m",
      "\u001b[1;31mTypeError\u001b[0m                                 Traceback (most recent call last)",
      "Cell \u001b[1;32mIn[168], line 6\u001b[0m\n\u001b[0;32m      4\u001b[0m n\n\u001b[0;32m      5\u001b[0m x \u001b[38;5;241m=\u001b[39m []\n\u001b[1;32m----> 6\u001b[0m \u001b[38;5;28;01mfor\u001b[39;00m i \u001b[38;5;129;01min\u001b[39;00m (n \u001b[38;5;241m-\u001b[39m \u001b[38;5;241m1\u001b[39m):\n\u001b[0;32m      7\u001b[0m     np\u001b[38;5;241m.\u001b[39mappend(\u001b[38;5;28mint\u001b[39m(x))\n\u001b[0;32m      8\u001b[0m \u001b[38;5;28mprint\u001b[39m(x)\n",
      "\u001b[1;31mTypeError\u001b[0m: unsupported operand type(s) for -: 'list' and 'int'"
     ]
    }
   ],
   "source": [
    "#luhns algorithm\n",
    "import numpy as np\n",
    "n = list(range(11))\n",
    "n.reverse()\n",
    "n\n",
    "x = []\n",
    "for i in (n - 1):\n",
    "    np.append(int(x))\n",
    "print(x)"
   ]
  },
  {
   "cell_type": "code",
   "execution_count": null,
   "id": "dffbe594",
   "metadata": {},
   "outputs": [],
   "source": []
  }
 ],
 "metadata": {
  "kernelspec": {
   "display_name": "Python 3 (ipykernel)",
   "language": "python",
   "name": "python3"
  },
  "language_info": {
   "codemirror_mode": {
    "name": "ipython",
    "version": 3
   },
   "file_extension": ".py",
   "mimetype": "text/x-python",
   "name": "python",
   "nbconvert_exporter": "python",
   "pygments_lexer": "ipython3",
   "version": "3.11.4"
  }
 },
 "nbformat": 4,
 "nbformat_minor": 5
}
