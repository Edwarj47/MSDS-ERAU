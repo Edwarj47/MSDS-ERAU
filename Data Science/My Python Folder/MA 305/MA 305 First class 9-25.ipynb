{
 "cells": [
  {
   "cell_type": "code",
   "execution_count": 30,
   "id": "227dc932",
   "metadata": {},
   "outputs": [
    {
     "name": "stdout",
     "output_type": "stream",
     "text": [
      "['a', 'b']\n"
     ]
    }
   ],
   "source": [
    "x = list(range(1,100))\n",
    "x; x.reverse(); x\n",
    "x.sort();x\n",
    "y = list(range(1,50))\n",
    "x1 = list(range(1,67))\n",
    "stack = [] \n",
    "stack.append('a'); stack.append('b')\n",
    "print(stack)\n"
   ]
  },
  {
   "cell_type": "code",
   "execution_count": 36,
   "id": "9c3c221c",
   "metadata": {},
   "outputs": [
    {
     "name": "stdout",
     "output_type": "stream",
     "text": [
      "['Sun', ' Mon', ' Tue', ' Wed', ' Thu', ' Fri', ' Sat']\n"
     ]
    }
   ],
   "source": [
    "s = 'Sun, Mon, Tue, Wed, Thu, Fri, Sat'\n",
    "x = s.split(','); print(x)\n"
   ]
  },
  {
   "cell_type": "code",
   "execution_count": 47,
   "id": "a663579a",
   "metadata": {},
   "outputs": [
    {
     "data": {
      "text/plain": [
       "('one', ['a', 'b'])"
      ]
     },
     "execution_count": 47,
     "metadata": {},
     "output_type": "execute_result"
    }
   ],
   "source": [
    "t0 = ()\n",
    "t1 = ('one',)\n",
    "t2 = ('one', 2, stack, 'four', 5.0)\n",
    "t2\n",
    "t2[2][1]\n",
    "t2[0:4:2]"
   ]
  },
  {
   "cell_type": "code",
   "execution_count": 58,
   "id": "b1984416",
   "metadata": {},
   "outputs": [
    {
     "data": {
      "text/plain": [
       "1"
      ]
     },
     "execution_count": 58,
     "metadata": {},
     "output_type": "execute_result"
    }
   ],
   "source": [
    "t3 = 1,2,3\n",
    "a, b, c = 1, 2, 3\n",
    "a + c\n",
    "a, b=b, a\n",
    "a\n",
    "b"
   ]
  },
  {
   "cell_type": "code",
   "execution_count": 60,
   "id": "acb513b5",
   "metadata": {},
   "outputs": [
    {
     "data": {
      "text/plain": [
       "['s', 't', 'r', 'i', 'n', 'g']"
      ]
     },
     "execution_count": 60,
     "metadata": {},
     "output_type": "execute_result"
    }
   ],
   "source": [
    "list('string')"
   ]
  },
  {
   "cell_type": "code",
   "execution_count": 61,
   "id": "8645b62b",
   "metadata": {},
   "outputs": [
    {
     "data": {
      "text/plain": [
       "(1, 2, 'three')"
      ]
     },
     "execution_count": 61,
     "metadata": {},
     "output_type": "execute_result"
    }
   ],
   "source": [
    "tuple([1,2,'three'])"
   ]
  },
  {
   "cell_type": "code",
   "execution_count": 64,
   "id": "d29b23c3",
   "metadata": {},
   "outputs": [
    {
     "name": "stdout",
     "output_type": "stream",
     "text": [
      "ma305\n",
      "ma345\n",
      "ma432\n"
     ]
    }
   ],
   "source": [
    "math_courses = (['ma305', 'ma345','ma432'])\n",
    "for i in math_courses:\n",
    "    print(i)"
   ]
  },
  {
   "cell_type": "code",
   "execution_count": 76,
   "id": "315d9cdc",
   "metadata": {},
   "outputs": [
    {
     "name": "stdout",
     "output_type": "stream",
     "text": [
      "0 : ma305\n",
      "1 : ma345\n",
      "2 : ma432\n"
     ]
    }
   ],
   "source": [
    "n=len(math_courses)\n",
    "for i in range(n):\n",
    "    print(i, ':', math_courses[i])"
   ]
  },
  {
   "cell_type": "code",
   "execution_count": 75,
   "id": "4266b956",
   "metadata": {},
   "outputs": [
    {
     "data": {
      "text/plain": [
       "[10, 9, 8, 7, 6, 5, 4, 3, 2, 1]"
      ]
     },
     "execution_count": 75,
     "metadata": {},
     "output_type": "execute_result"
    }
   ],
   "source": [
    "range(5)[2]; range(1,6)[3]; list(range(0,6,2)); #notes\n",
    "list(range(10, 0,-1))\n"
   ]
  },
  {
   "cell_type": "code",
   "execution_count": 72,
   "id": "dc0cec7d",
   "metadata": {},
   "outputs": [
    {
     "data": {
      "text/plain": [
       "[0, 2, 4]"
      ]
     },
     "execution_count": 72,
     "metadata": {},
     "output_type": "execute_result"
    }
   ],
   "source": [
    "list(range(0,6,2))"
   ]
  },
  {
   "cell_type": "code",
   "execution_count": 73,
   "id": "56542094",
   "metadata": {},
   "outputs": [
    {
     "data": {
      "text/plain": [
       "(0, 1, 2, 3, 4)"
      ]
     },
     "execution_count": 73,
     "metadata": {},
     "output_type": "execute_result"
    }
   ],
   "source": [
    "tuple(range(5))"
   ]
  },
  {
   "cell_type": "code",
   "execution_count": 78,
   "id": "69ef853a",
   "metadata": {},
   "outputs": [
    {
     "name": "stdout",
     "output_type": "stream",
     "text": [
      "0 : ma305\n",
      "1 : ma345\n",
      "2 : ma432\n"
     ]
    }
   ],
   "source": [
    "for j, i in enumerate(math_courses):\n",
    "    print(j,':',i)"
   ]
  },
  {
   "cell_type": "code",
   "execution_count": 86,
   "id": "cc4121bd",
   "metadata": {},
   "outputs": [
    {
     "name": "stdout",
     "output_type": "stream",
     "text": [
      "(1, 'a')\n",
      "(2, 'b')\n",
      "(3, 'c')\n",
      "(4, 'd')\n",
      "(5, 'e')\n"
     ]
    }
   ],
   "source": [
    "L1 = [1,2,3,4,5]\n",
    "L2 = ['a','b','c','d','e']\n",
    "for pair in zip(L1,L2):\n",
    "    print(pair)"
   ]
  },
  {
   "cell_type": "code",
   "execution_count": 94,
   "id": "2fdd00c2",
   "metadata": {},
   "outputs": [
    {
     "name": "stdout",
     "output_type": "stream",
     "text": [
      "(0, 1, 2, 3)\n",
      "(1, 2, 3, 6)\n",
      "('a', 'b', 'c', 'd')\n"
     ]
    }
   ],
   "source": [
    "L3 = [0,1,2,3]\n",
    "L4 = [1,2,3,6,7,8,9]\n",
    "L5 = ['a','b','c','d']\n",
    "z = zip(L3,L4,L5)\n",
    "for item in zip(*z):\n",
    "    print(item)"
   ]
  },
  {
   "cell_type": "code",
   "execution_count": 110,
   "id": "20b373a0",
   "metadata": {},
   "outputs": [
    {
     "name": "stdout",
     "output_type": "stream",
     "text": [
      "290\n"
     ]
    }
   ],
   "source": [
    "sum = 0\n",
    "list_1 = [21,17,9,95,67,81]\n",
    "for i in list_1:\n",
    "    sum = sum + i \n",
    "print(sum)"
   ]
  },
  {
   "cell_type": "code",
   "execution_count": 114,
   "id": "6d99c855",
   "metadata": {},
   "outputs": [
    {
     "name": "stdout",
     "output_type": "stream",
     "text": [
      "0 is even\n",
      "1 is odd\n",
      "2 is even\n",
      "3 is odd\n",
      "4 is even\n",
      "5 is odd\n",
      "6 is even\n",
      "7 is odd\n",
      "8 is even\n",
      "9 is odd\n"
     ]
    }
   ],
   "source": [
    "for x in range(10):\n",
    "    if x % 2:\n",
    "        print(x, 'is odd')\n",
    "    else:\n",
    "        print(x, 'is even')"
   ]
  },
  {
   "cell_type": "code",
   "execution_count": 116,
   "id": "8da2baf8",
   "metadata": {},
   "outputs": [
    {
     "name": "stdout",
     "output_type": "stream",
     "text": [
      "hello  1\n",
      "hello  2\n",
      "hello  3\n",
      "hello  4\n",
      "hello  5\n",
      "hello  6\n",
      "hello  7\n",
      "hello  8\n",
      "hello  9\n",
      "hello  10\n",
      "\n"
     ]
    }
   ],
   "source": [
    "i = 0 \n",
    "while (i<10):\n",
    "    i += 1\n",
    "    print('hello ', i)\n",
    "print()"
   ]
  },
  {
   "cell_type": "code",
   "execution_count": 126,
   "id": "f20d24c0",
   "metadata": {},
   "outputs": [
    {
     "name": "stdout",
     "output_type": "stream",
     "text": [
      "a= 120 b= 20\n",
      "greatest common divisor of a and b: 20\n"
     ]
    }
   ],
   "source": [
    "a, b = 120, 20\n",
    "print('a=', a, 'b=', b)\n",
    "while b:\n",
    "    a, b = b, a%b\n",
    "print('greatest common divisor of a and b:', a)"
   ]
  },
  {
   "cell_type": "code",
   "execution_count": 128,
   "id": "e1009fbf",
   "metadata": {},
   "outputs": [
    {
     "name": "stdout",
     "output_type": "stream",
     "text": [
      "75 is divisible by both 15 and 25\n"
     ]
    }
   ],
   "source": [
    "i=0\n",
    "while True:\n",
    "    i += 1\n",
    "    if not (i%15 or i%25):\n",
    "        break\n",
    "print(i, 'is divisible by both 15 and 25')"
   ]
  },
  {
   "cell_type": "code",
   "execution_count": 130,
   "id": "eeeb8d76",
   "metadata": {},
   "outputs": [
    {
     "name": "stdout",
     "output_type": "stream",
     "text": [
      "2 is even!\n",
      "4 is even!\n",
      "6 is even!\n",
      "8 is even!\n",
      "10 is even!\n"
     ]
    }
   ],
   "source": [
    "for i in range(1,11):\n",
    "    if i % 2:\n",
    "        continue\n",
    "    print(i, 'is even!')"
   ]
  },
  {
   "cell_type": "code",
   "execution_count": null,
   "id": "8ddb03a7",
   "metadata": {},
   "outputs": [],
   "source": []
  }
 ],
 "metadata": {
  "kernelspec": {
   "display_name": "Python 3 (ipykernel)",
   "language": "python",
   "name": "python3"
  },
  "language_info": {
   "codemirror_mode": {
    "name": "ipython",
    "version": 3
   },
   "file_extension": ".py",
   "mimetype": "text/x-python",
   "name": "python",
   "nbconvert_exporter": "python",
   "pygments_lexer": "ipython3",
   "version": "3.11.4"
  }
 },
 "nbformat": 4,
 "nbformat_minor": 5
}
