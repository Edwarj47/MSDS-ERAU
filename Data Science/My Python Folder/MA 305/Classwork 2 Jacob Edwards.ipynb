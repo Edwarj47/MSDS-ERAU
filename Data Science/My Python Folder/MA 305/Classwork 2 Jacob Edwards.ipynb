{
 "cells": [
  {
   "cell_type": "markdown",
   "id": "fdb9cef7",
   "metadata": {},
   "source": [
    "## Class Work Two"
   ]
  },
  {
   "cell_type": "markdown",
   "id": "cdca8c84",
   "metadata": {},
   "source": [
    "# Question 1"
   ]
  },
  {
   "cell_type": "code",
   "execution_count": 11,
   "id": "7dfe6f40",
   "metadata": {},
   "outputs": [
    {
     "name": "stdout",
     "output_type": "stream",
     "text": [
      "Enter a positive integers N:100\n",
      "\n",
      "Geometric series:\n",
      "n \t S_n\n",
      "100 \t 2.0\n",
      "\n",
      "\n",
      "Harmonic series:\n",
      "n \t S_n\n",
      "100 \t 5.187377517639621\n",
      "\n",
      "\n",
      "Alternating series:\n",
      "n \t S_n\n",
      "100 \t 0.688172179310195\n",
      "\n",
      "===============================\n",
      " Sum of the first 100 terms\n",
      " 1a. GS = 2.0\n",
      " 1b. HS = 5.187377517639621\n",
      " 1c. AS = 0.688172179310195\n",
      "================================\n",
      "\n",
      " n GS HS AS\n",
      "=============================================================================\n",
      "   100 \t    2.000000000000000 \t    5.187377517639621 \t   0.688172179310195\n",
      "\n",
      " Error in Geometric Series: 0.0\n",
      "Error in Alternating Series: 0.004975001249750255\n",
      "\n"
     ]
    }
   ],
   "source": [
    "import math\n",
    "N=input('Enter a positive integers N:')\n",
    "N=int(N)\n",
    "#Geometric series 1+1/2 +1/2^2 + ... +1/2^n + ... sum=a/(1-r)=2\n",
    "print('\\nGeometric series:')\n",
    "sum_gs=0\n",
    "print('n \\t S_n')\n",
    "for n in range(N):\n",
    "    sum_gs = sum_gs + 1/2**n\n",
    "print(n+1,'\\t',sum_gs)\n",
    "print()\n",
    "#Harmonic series 1+1/2 +1/3 + ... +1/n + ...\n",
    "print('\\nHarmonic series:')\n",
    "sum_hs=0\n",
    "print('n \\t S_n')\n",
    "for n in range(1,N+1):\n",
    "    sum_hs = sum_hs + 1/n\n",
    "print(n,'\\t',sum_hs)\n",
    "print()\n",
    "#Alternating series 1-1/2 +1/3 - ... (-1)^(n+1)/n + ...\n",
    "print('\\nAlternating series:')\n",
    "sum_as=0\n",
    "print('n \\t S_n')\n",
    "for n in range(1,N+1):\n",
    "    sum_as = sum_as + (-1)**(n+1) *(1/n)\n",
    "print(n,'\\t',sum_as)\n",
    "print()\n",
    "print('===============================')\n",
    "print(' Sum of the first', n, 'terms')\n",
    "print(' 1a. GS =',sum_gs)\n",
    "print(' 1b. HS =',sum_hs)\n",
    "print(' 1c. AS =',sum_as)\n",
    "print('================================')\n",
    "print()\n",
    "print(' n GS HS AS')\n",
    "print('=============================================================================')\n",
    "sum_gs=sum_hs=sum_as=0\n",
    "for n in range(N):\n",
    "    sum_gs += 1/2**n\n",
    "    sum_hs += 1/(n+1)\n",
    "    sum_as += (-1)**(n+2) *(1/(n+1))\n",
    "print('{0:6d} \\t {1:20.15f} \\t {2:20.15f} \\t{3:20.15f}'.format(n+1,sum_gs,sum_hs,sum_as))\n",
    "print()\n",
    "print(' Error in Geometric Series:',abs(2-sum_gs))\n",
    "print('Error in Alternating Series:',abs(math.log(2)-sum_as))\n",
    "print()\n"
   ]
  },
  {
   "cell_type": "code",
   "execution_count": 10,
   "id": "2401c1bd",
   "metadata": {},
   "outputs": [
    {
     "name": "stdout",
     "output_type": "stream",
     "text": [
      "Enter a positive integers N:1000\n",
      "\n",
      "Geometric series:\n",
      "n \t S_n\n",
      "1000 \t 2.0\n",
      "\n",
      "\n",
      "Harmonic series:\n",
      "n \t S_n\n",
      "1000 \t 7.485470860550343\n",
      "\n",
      "\n",
      "Alternating series:\n",
      "n \t S_n\n",
      "1000 \t 0.6926474305598223\n",
      "\n",
      "===============================\n",
      " Sum of the first 1000 terms\n",
      " 1a. GS = 2.0\n",
      " 1b. HS = 7.485470860550343\n",
      " 1c. AS = 0.6926474305598223\n",
      "================================\n",
      "\n",
      " n GS HS AS\n",
      "=============================================================================\n",
      "  1000 \t    2.000000000000000 \t    7.485470860550343 \t   0.692647430559822\n",
      "\n",
      " Error in Geometric Series: 0.0\n",
      "Error in Alternating Series: 0.0004997500001230337\n",
      "\n"
     ]
    }
   ],
   "source": [
    "import math\n",
    "N=input('Enter a positive integers N:')\n",
    "N=int(N)\n",
    "#Geometric series 1+1/2 +1/2^2 + ... +1/2^n + ... sum=a/(1-r)=2\n",
    "print('\\nGeometric series:')\n",
    "sum_gs=0\n",
    "print('n \\t S_n')\n",
    "for n in range(N):\n",
    "    sum_gs = sum_gs + 1/2**n\n",
    "print(n+1,'\\t',sum_gs)\n",
    "print()\n",
    "#Harmonic series 1+1/2 +1/3 + ... +1/n + ...\n",
    "print('\\nHarmonic series:')\n",
    "sum_hs=0\n",
    "print('n \\t S_n')\n",
    "for n in range(1,N+1):\n",
    "    sum_hs = sum_hs + 1/n\n",
    "print(n,'\\t',sum_hs)\n",
    "print()\n",
    "#Alternating series 1-1/2 +1/3 - ... (-1)^(n+1)/n + ...\n",
    "print('\\nAlternating series:')\n",
    "sum_as=0\n",
    "print('n \\t S_n')\n",
    "for n in range(1,N+1):\n",
    "    sum_as = sum_as + (-1)**(n+1) *(1/n)\n",
    "print(n,'\\t',sum_as)\n",
    "print()\n",
    "print('===============================')\n",
    "print(' Sum of the first', n, 'terms')\n",
    "print(' 1a. GS =',sum_gs)\n",
    "print(' 1b. HS =',sum_hs)\n",
    "print(' 1c. AS =',sum_as)\n",
    "print('================================')\n",
    "print()\n",
    "print(' n GS HS AS')\n",
    "print('=============================================================================')\n",
    "sum_gs=sum_hs=sum_as=0\n",
    "for n in range(N):\n",
    "    sum_gs += 1/2**n\n",
    "    sum_hs += 1/(n+1)\n",
    "    sum_as += (-1)**(n+2) *(1/(n+1))\n",
    "print('{0:6d} \\t {1:20.15f} \\t {2:20.15f} \\t{3:20.15f}'.format(n+1,sum_gs,sum_hs,sum_as))\n",
    "print()\n",
    "print(' Error in Geometric Series:',abs(2-sum_gs))\n",
    "print('Error in Alternating Series:',abs(math.log(2)-sum_as))\n",
    "print()\n"
   ]
  },
  {
   "cell_type": "code",
   "execution_count": 12,
   "id": "213d7b10",
   "metadata": {},
   "outputs": [
    {
     "name": "stdout",
     "output_type": "stream",
     "text": [
      "Enter a positive integers N:100000\n",
      "\n",
      "Geometric series:\n",
      "n \t S_n\n",
      "100000 \t 2.0\n",
      "\n",
      "\n",
      "Harmonic series:\n",
      "n \t S_n\n",
      "100000 \t 12.090146129863335\n",
      "\n",
      "\n",
      "Alternating series:\n",
      "n \t S_n\n",
      "100000 \t 0.6931421805849816\n",
      "\n",
      "===============================\n",
      " Sum of the first 100000 terms\n",
      " 1a. GS = 2.0\n",
      " 1b. HS = 12.090146129863335\n",
      " 1c. AS = 0.6931421805849816\n",
      "================================\n",
      "\n",
      " n GS HS AS\n",
      "=============================================================================\n",
      "100000 \t    2.000000000000000 \t   12.090146129863335 \t   0.693142180584982\n",
      "\n",
      " Error in Geometric Series: 0.0\n",
      "Error in Alternating Series: 4.999974963726395e-06\n",
      "\n"
     ]
    }
   ],
   "source": [
    "import math\n",
    "N=input('Enter a positive integers N:')\n",
    "N=int(N)\n",
    "#Geometric series 1+1/2 +1/2^2 + ... +1/2^n + ... sum=a/(1-r)=2\n",
    "print('\\nGeometric series:')\n",
    "sum_gs=0\n",
    "print('n \\t S_n')\n",
    "for n in range(N):\n",
    "    sum_gs = sum_gs + 1/2**n\n",
    "print(n+1,'\\t',sum_gs)\n",
    "print()\n",
    "#Harmonic series 1+1/2 +1/3 + ... +1/n + ...\n",
    "print('\\nHarmonic series:')\n",
    "sum_hs=0\n",
    "print('n \\t S_n')\n",
    "for n in range(1,N+1):\n",
    "    sum_hs = sum_hs + 1/n\n",
    "print(n,'\\t',sum_hs)\n",
    "print()\n",
    "#Alternating series 1-1/2 +1/3 - ... (-1)^(n+1)/n + ...\n",
    "print('\\nAlternating series:')\n",
    "sum_as=0\n",
    "print('n \\t S_n')\n",
    "for n in range(1,N+1):\n",
    "    sum_as = sum_as + (-1)**(n+1) *(1/n)\n",
    "print(n,'\\t',sum_as)\n",
    "print()\n",
    "print('===============================')\n",
    "print(' Sum of the first', n, 'terms')\n",
    "print(' 1a. GS =',sum_gs)\n",
    "print(' 1b. HS =',sum_hs)\n",
    "print(' 1c. AS =',sum_as)\n",
    "print('================================')\n",
    "print()\n",
    "print(' n GS HS AS')\n",
    "print('=============================================================================')\n",
    "sum_gs=sum_hs=sum_as=0\n",
    "for n in range(N):\n",
    "    sum_gs += 1/2**n\n",
    "    sum_hs += 1/(n+1)\n",
    "    sum_as += (-1)**(n+2) *(1/(n+1))\n",
    "print('{0:6d} \\t {1:20.15f} \\t {2:20.15f} \\t{3:20.15f}'.format(n+1,sum_gs,sum_hs,sum_as))\n",
    "print()\n",
    "print(' Error in Geometric Series:',abs(2-sum_gs))\n",
    "print('Error in Alternating Series:',abs(math.log(2)-sum_as))\n",
    "print()\n"
   ]
  },
  {
   "cell_type": "markdown",
   "id": "c438ac66",
   "metadata": {},
   "source": [
    "The biggest difference was the run time that it took to compute the last problem. The Geometric series are the same on each of the different inputs with no errors either."
   ]
  },
  {
   "cell_type": "code",
   "execution_count": null,
   "id": "0a09e3bf",
   "metadata": {},
   "outputs": [],
   "source": [
    "S_n = a (1 - r^n) / (1 - r)"
   ]
  },
  {
   "cell_type": "code",
   "execution_count": null,
   "id": "46b741b1",
   "metadata": {},
   "outputs": [],
   "source": []
  },
  {
   "cell_type": "code",
   "execution_count": null,
   "id": "31a8db54",
   "metadata": {},
   "outputs": [],
   "source": []
  },
  {
   "cell_type": "code",
   "execution_count": 20,
   "id": "f935039d",
   "metadata": {},
   "outputs": [
    {
     "name": "stdout",
     "output_type": "stream",
     "text": [
      "64\n",
      "Square root of 64 is 8.0\n"
     ]
    }
   ],
   "source": [
    "#### Lab 2\n",
    "\n",
    "def squareRoot(n):\n",
    " \n",
    "    # We are using n itself as\n",
    "    # initial approximation This\n",
    "    # can definitely be improved \n",
    "        x = n\n",
    "        y = 1\n",
    "         \n",
    "        # e decides the accuracy level\n",
    "        e = 0.000001\n",
    "        while(x - y > e):\n",
    "     \n",
    "            x = (x + y)/2\n",
    "            y = n / x\n",
    "            \n",
    "        return x\n",
    " \n",
    "# Driver program to test \n",
    "# above function\n",
    "n = int(input())\n",
    " \n",
    "print(\"Square root of\", n, \"is\",\n",
    "              round(squareRoot(n), 6))"
   ]
  },
  {
   "cell_type": "code",
   "execution_count": 23,
   "id": "fcc8d626",
   "metadata": {},
   "outputs": [
    {
     "name": "stdout",
     "output_type": "stream",
     "text": [
      "95\n",
      "92\n"
     ]
    }
   ],
   "source": [
    "#Dictionary Class work\n",
    "\n",
    "score = {'English': 80, 'Math' : 95, 'Physics': 72, 'Chemistry': 92}\n",
    "print(score['Math'])\n",
    "course = 'Chemistry'\n",
    "print(score[course])"
   ]
  },
  {
   "cell_type": "code",
   "execution_count": 32,
   "id": "ea0b6c23",
   "metadata": {},
   "outputs": [
    {
     "name": "stdout",
     "output_type": "stream",
     "text": [
      "English 80\n",
      "Math 95\n",
      "Physics 72\n",
      "Chemistry 90\n"
     ]
    }
   ],
   "source": [
    "for subject in score:\n",
    "    print(subject,score[subject])"
   ]
  },
  {
   "cell_type": "code",
   "execution_count": 33,
   "id": "1d711c9c",
   "metadata": {},
   "outputs": [
    {
     "name": "stdout",
     "output_type": "stream",
     "text": [
      "dict_keys(['English', 'Math', 'Physics', 'Chemistry'])\n"
     ]
    }
   ],
   "source": [
    "print(score.keys())"
   ]
  },
  {
   "cell_type": "code",
   "execution_count": 34,
   "id": "be08444f",
   "metadata": {},
   "outputs": [
    {
     "name": "stdout",
     "output_type": "stream",
     "text": [
      "dict_values([80, 95, 72, 90])\n"
     ]
    }
   ],
   "source": [
    "print(score.values())"
   ]
  },
  {
   "cell_type": "code",
   "execution_count": 35,
   "id": "fe6d79a8",
   "metadata": {},
   "outputs": [
    {
     "name": "stdout",
     "output_type": "stream",
     "text": [
      "dict_items([('English', 80), ('Math', 95), ('Physics', 72), ('Chemistry', 90)])\n"
     ]
    }
   ],
   "source": [
    "print(score.items())"
   ]
  },
  {
   "cell_type": "code",
   "execution_count": 43,
   "id": "1749fb13",
   "metadata": {},
   "outputs": [
    {
     "name": "stdout",
     "output_type": "stream",
     "text": [
      "{'', 1, 2, 3, 4, 5, 'a', 'b', 12, 'c'}\n",
      "{1, 2}\n"
     ]
    }
   ],
   "source": [
    "import numpy as np\n",
    "\n",
    "A = set([1,2,3,4,2,12,1,5,'','a','b','c'])\n",
    "B = set([1,1,2,2,1,2])\n",
    "print(A)\n",
    "print(B)"
   ]
  },
  {
   "cell_type": "code",
   "execution_count": null,
   "id": "8db191e4",
   "metadata": {},
   "outputs": [],
   "source": []
  }
 ],
 "metadata": {
  "kernelspec": {
   "display_name": "Python 3 (ipykernel)",
   "language": "python",
   "name": "python3"
  },
  "language_info": {
   "codemirror_mode": {
    "name": "ipython",
    "version": 3
   },
   "file_extension": ".py",
   "mimetype": "text/x-python",
   "name": "python",
   "nbconvert_exporter": "python",
   "pygments_lexer": "ipython3",
   "version": "3.11.4"
  }
 },
 "nbformat": 4,
 "nbformat_minor": 5
}
