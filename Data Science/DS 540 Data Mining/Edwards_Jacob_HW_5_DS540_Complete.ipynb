{
  "cells": [
    {
      "cell_type": "code",
      "execution_count": 61,
      "metadata": {
        "colab": {
          "base_uri": "https://localhost:8080/"
        },
        "id": "z8Gpg_G-Vqlo",
        "outputId": "ea8a4f14-5a39-42c7-ca44-6ada13293a3e"
      },
      "outputs": [
        {
          "output_type": "stream",
          "name": "stdout",
          "text": [
            "Requirement already satisfied: category_encoders in /usr/local/lib/python3.10/dist-packages (2.6.3)\n",
            "Requirement already satisfied: numpy>=1.14.0 in /usr/local/lib/python3.10/dist-packages (from category_encoders) (1.25.2)\n",
            "Requirement already satisfied: scikit-learn>=0.20.0 in /usr/local/lib/python3.10/dist-packages (from category_encoders) (1.2.2)\n",
            "Requirement already satisfied: scipy>=1.0.0 in /usr/local/lib/python3.10/dist-packages (from category_encoders) (1.11.4)\n",
            "Requirement already satisfied: statsmodels>=0.9.0 in /usr/local/lib/python3.10/dist-packages (from category_encoders) (0.14.2)\n",
            "Requirement already satisfied: pandas>=1.0.5 in /usr/local/lib/python3.10/dist-packages (from category_encoders) (2.0.3)\n",
            "Requirement already satisfied: patsy>=0.5.1 in /usr/local/lib/python3.10/dist-packages (from category_encoders) (0.5.6)\n",
            "Requirement already satisfied: python-dateutil>=2.8.2 in /usr/local/lib/python3.10/dist-packages (from pandas>=1.0.5->category_encoders) (2.8.2)\n",
            "Requirement already satisfied: pytz>=2020.1 in /usr/local/lib/python3.10/dist-packages (from pandas>=1.0.5->category_encoders) (2023.4)\n",
            "Requirement already satisfied: tzdata>=2022.1 in /usr/local/lib/python3.10/dist-packages (from pandas>=1.0.5->category_encoders) (2024.1)\n",
            "Requirement already satisfied: six in /usr/local/lib/python3.10/dist-packages (from patsy>=0.5.1->category_encoders) (1.16.0)\n",
            "Requirement already satisfied: joblib>=1.1.1 in /usr/local/lib/python3.10/dist-packages (from scikit-learn>=0.20.0->category_encoders) (1.4.2)\n",
            "Requirement already satisfied: threadpoolctl>=2.0.0 in /usr/local/lib/python3.10/dist-packages (from scikit-learn>=0.20.0->category_encoders) (3.5.0)\n",
            "Requirement already satisfied: packaging>=21.3 in /usr/local/lib/python3.10/dist-packages (from statsmodels>=0.9.0->category_encoders) (24.0)\n",
            "Requirement already satisfied: imbalanced-learn in /usr/local/lib/python3.10/dist-packages (0.12.3)\n",
            "Requirement already satisfied: numpy>=1.17.3 in /usr/local/lib/python3.10/dist-packages (from imbalanced-learn) (1.25.2)\n",
            "Requirement already satisfied: scipy>=1.5.0 in /usr/local/lib/python3.10/dist-packages (from imbalanced-learn) (1.11.4)\n",
            "Requirement already satisfied: scikit-learn>=1.0.2 in /usr/local/lib/python3.10/dist-packages (from imbalanced-learn) (1.2.2)\n",
            "Requirement already satisfied: joblib>=1.1.1 in /usr/local/lib/python3.10/dist-packages (from imbalanced-learn) (1.4.2)\n",
            "Requirement already satisfied: threadpoolctl>=2.0.0 in /usr/local/lib/python3.10/dist-packages (from imbalanced-learn) (3.5.0)\n"
          ]
        }
      ],
      "source": [
        "import numpy as np\n",
        "import pandas as pd\n",
        "import matplotlib.pyplot as plt\n",
        "import statistics\n",
        "from sklearn.tree import DecisionTreeClassifier\n",
        "from sklearn import tree\n",
        "from sklearn.model_selection import train_test_split\n",
        "from sklearn import metrics\n",
        "import math\n",
        "from sklearn.ensemble import ExtraTreesClassifier\n",
        "from sklearn.model_selection import cross_val_score as cvl\n",
        "from sklearn.metrics import precision_recall_fscore_support as score\n",
        "from sklearn.metrics import confusion_matrix\n",
        "from sklearn.metrics import r2_score\n",
        "from sklearn import datasets, svm\n",
        "from sklearn.metrics import ConfusionMatrixDisplay\n",
        "from sklearn.linear_model import LinearRegression\n",
        "from sklearn.neighbors import KNeighborsClassifier\n",
        "from sklearn.ensemble import AdaBoostClassifier\n",
        "from sklearn .metrics import roc_auc_score\n",
        "!pip install category_encoders\n",
        "import category_encoders as ce\n",
        "from sklearn.metrics import cohen_kappa_score as chs\n",
        "! pip install -U imbalanced-learn\n",
        "from sklearn.ensemble import ExtraTreesClassifier\n",
        "from sklearn.metrics import accuracy_score, classification_report"
      ]
    },
    {
      "cell_type": "markdown",
      "source": [
        "##Pre-processing the Dataset"
      ],
      "metadata": {
        "id": "yoWddJ_Ywu8d"
      }
    },
    {
      "cell_type": "code",
      "execution_count": 62,
      "metadata": {
        "colab": {
          "base_uri": "https://localhost:8080/"
        },
        "id": "XFystmqnWqOW",
        "outputId": "c0d50769-67bf-4de0-883b-752ba4b01fec"
      },
      "outputs": [
        {
          "output_type": "execute_result",
          "data": {
            "text/plain": [
              "(421768, 31)"
            ]
          },
          "metadata": {},
          "execution_count": 62
        }
      ],
      "source": [
        "from google.colab import drive\n",
        "import numpy as np\n",
        "import pandas as pd\n",
        "#drive.mount('/content/drive')\n",
        "# Create the dataframe\n",
        "#df = pd.read_csv('/content/drive/MyDrive/Colab Notebooks/DS 540 Data Mining/flightandweather.csv')\n",
        "df = pd.read_csv('flightandweather.csv')\n",
        "dfcopy = df.copy()\n",
        "#dfcopy.head()\n",
        "df.shape"
      ]
    },
    {
      "cell_type": "code",
      "execution_count": 63,
      "metadata": {
        "colab": {
          "base_uri": "https://localhost:8080/"
        },
        "id": "X1aATT4kWqsr",
        "outputId": "e7137c6d-b59b-4fe8-88f4-0d621df2af4f"
      },
      "outputs": [
        {
          "output_type": "execute_result",
          "data": {
            "text/plain": [
              "Index(['Unnamed: 0', 'FL_DATE', 'TAIL_NUM', 'ORIGIN_STATE_NM', 'DEST_STATE_NM',\n",
              "       'DEP_TIME', 'DEP_DELAY_NEW', 'ARR_TIME', 'ARR_DELAY_NEW', 'CANCELLED',\n",
              "       'AIR_TIME', 'DISTANCE', 'CARRIER_DELAY', 'WEATHER_DELAY', 'NAS_DELAY',\n",
              "       'SECURITY_DELAY', 'LATE_AIRCRAFT_DELAY', 'count', 'try', 'time',\n",
              "       'time1', 'time2', 'time3', 'timestamp', 'WindDirection', 'WindSpeed',\n",
              "       'Humidity', 'visibility', 'temperature', 'presure', 'season'],\n",
              "      dtype='object')"
            ]
          },
          "metadata": {},
          "execution_count": 63
        }
      ],
      "source": [
        "df.columns\n",
        "#X features need to be weather conditions\n",
        "#target (y) needs to be the Weather delay binary scale"
      ]
    },
    {
      "cell_type": "code",
      "execution_count": 64,
      "metadata": {
        "colab": {
          "base_uri": "https://localhost:8080/",
          "height": 997
        },
        "id": "NA8hdUu_Wqvg",
        "outputId": "9e98f61d-845e-4da1-a39c-922276d3de8c"
      },
      "outputs": [
        {
          "output_type": "stream",
          "name": "stdout",
          "text": [
            "Unnamed: 0                  0\n",
            "FL_DATE                     0\n",
            "TAIL_NUM                    0\n",
            "ORIGIN_STATE_NM             0\n",
            "DEST_STATE_NM               0\n",
            "DEP_TIME                    0\n",
            "DEP_DELAY_NEW               0\n",
            "ARR_TIME                    0\n",
            "ARR_DELAY_NEW               0\n",
            "CANCELLED                   0\n",
            "AIR_TIME                    0\n",
            "DISTANCE                    0\n",
            "CARRIER_DELAY          351997\n",
            "WEATHER_DELAY          351997\n",
            "NAS_DELAY              351997\n",
            "SECURITY_DELAY         351997\n",
            "LATE_AIRCRAFT_DELAY    351997\n",
            "count                       0\n",
            "try                         0\n",
            "time                        0\n",
            "time1                       0\n",
            "time2                      48\n",
            "time3                      48\n",
            "timestamp                  48\n",
            "WindDirection            3380\n",
            "WindSpeed                1347\n",
            "Humidity                 1270\n",
            "visibility               1270\n",
            "temperature              1270\n",
            "presure                  3768\n",
            "season                      0\n",
            "dtype: int64\n",
            "417959\n"
          ]
        },
        {
          "output_type": "execute_result",
          "data": {
            "text/plain": [
              "        Unnamed: 0  AIR_TIME  DISTANCE  WEATHER_DELAY  WindDirection  \\\n",
              "0                0      84.0       563            NaN          300.0   \n",
              "1                1      85.0       563            NaN          310.0   \n",
              "2                2      88.0       563            NaN          100.0   \n",
              "3                3      88.0       563            NaN          240.0   \n",
              "4                4      89.0       563            NaN          310.0   \n",
              "...            ...       ...       ...            ...            ...   \n",
              "421763      421763      87.0       581            NaN          280.0   \n",
              "421764      421764      93.0       760            NaN          300.0   \n",
              "421765      421765      83.0       581            NaN          270.0   \n",
              "421766      421766     101.0       760            NaN          270.0   \n",
              "421767      421767      82.0       718            NaN          300.0   \n",
              "\n",
              "        WindSpeed  Humidity  visibility  temperature  presure  season  \n",
              "0            14.0      68.0        10.0         46.0    28.00       1  \n",
              "1             8.0      71.0        10.0         47.0    29.00       1  \n",
              "2             5.0      74.0        10.0         50.0    29.00       1  \n",
              "3             7.0      77.0        10.0         54.0    29.00       1  \n",
              "4            13.0      51.0        10.0         43.0    29.00       1  \n",
              "...           ...       ...         ...          ...      ...     ...  \n",
              "421763        9.0      73.0        10.0         40.0    28.88       4  \n",
              "421764       17.0      63.0        10.0         43.0    28.94       4  \n",
              "421765       16.0      36.0        10.0         56.0    28.89       4  \n",
              "421766       11.0      41.0        10.0         50.0    28.89       4  \n",
              "421767       17.0      63.0        10.0         43.0    28.94       4  \n",
              "\n",
              "[417959 rows x 11 columns]"
            ],
            "text/html": [
              "\n",
              "  <div id=\"df-f6065f8b-f8b4-4045-abc9-2b3c90ae0861\" class=\"colab-df-container\">\n",
              "    <div>\n",
              "<style scoped>\n",
              "    .dataframe tbody tr th:only-of-type {\n",
              "        vertical-align: middle;\n",
              "    }\n",
              "\n",
              "    .dataframe tbody tr th {\n",
              "        vertical-align: top;\n",
              "    }\n",
              "\n",
              "    .dataframe thead th {\n",
              "        text-align: right;\n",
              "    }\n",
              "</style>\n",
              "<table border=\"1\" class=\"dataframe\">\n",
              "  <thead>\n",
              "    <tr style=\"text-align: right;\">\n",
              "      <th></th>\n",
              "      <th>Unnamed: 0</th>\n",
              "      <th>AIR_TIME</th>\n",
              "      <th>DISTANCE</th>\n",
              "      <th>WEATHER_DELAY</th>\n",
              "      <th>WindDirection</th>\n",
              "      <th>WindSpeed</th>\n",
              "      <th>Humidity</th>\n",
              "      <th>visibility</th>\n",
              "      <th>temperature</th>\n",
              "      <th>presure</th>\n",
              "      <th>season</th>\n",
              "    </tr>\n",
              "  </thead>\n",
              "  <tbody>\n",
              "    <tr>\n",
              "      <th>0</th>\n",
              "      <td>0</td>\n",
              "      <td>84.0</td>\n",
              "      <td>563</td>\n",
              "      <td>NaN</td>\n",
              "      <td>300.0</td>\n",
              "      <td>14.0</td>\n",
              "      <td>68.0</td>\n",
              "      <td>10.0</td>\n",
              "      <td>46.0</td>\n",
              "      <td>28.00</td>\n",
              "      <td>1</td>\n",
              "    </tr>\n",
              "    <tr>\n",
              "      <th>1</th>\n",
              "      <td>1</td>\n",
              "      <td>85.0</td>\n",
              "      <td>563</td>\n",
              "      <td>NaN</td>\n",
              "      <td>310.0</td>\n",
              "      <td>8.0</td>\n",
              "      <td>71.0</td>\n",
              "      <td>10.0</td>\n",
              "      <td>47.0</td>\n",
              "      <td>29.00</td>\n",
              "      <td>1</td>\n",
              "    </tr>\n",
              "    <tr>\n",
              "      <th>2</th>\n",
              "      <td>2</td>\n",
              "      <td>88.0</td>\n",
              "      <td>563</td>\n",
              "      <td>NaN</td>\n",
              "      <td>100.0</td>\n",
              "      <td>5.0</td>\n",
              "      <td>74.0</td>\n",
              "      <td>10.0</td>\n",
              "      <td>50.0</td>\n",
              "      <td>29.00</td>\n",
              "      <td>1</td>\n",
              "    </tr>\n",
              "    <tr>\n",
              "      <th>3</th>\n",
              "      <td>3</td>\n",
              "      <td>88.0</td>\n",
              "      <td>563</td>\n",
              "      <td>NaN</td>\n",
              "      <td>240.0</td>\n",
              "      <td>7.0</td>\n",
              "      <td>77.0</td>\n",
              "      <td>10.0</td>\n",
              "      <td>54.0</td>\n",
              "      <td>29.00</td>\n",
              "      <td>1</td>\n",
              "    </tr>\n",
              "    <tr>\n",
              "      <th>4</th>\n",
              "      <td>4</td>\n",
              "      <td>89.0</td>\n",
              "      <td>563</td>\n",
              "      <td>NaN</td>\n",
              "      <td>310.0</td>\n",
              "      <td>13.0</td>\n",
              "      <td>51.0</td>\n",
              "      <td>10.0</td>\n",
              "      <td>43.0</td>\n",
              "      <td>29.00</td>\n",
              "      <td>1</td>\n",
              "    </tr>\n",
              "    <tr>\n",
              "      <th>...</th>\n",
              "      <td>...</td>\n",
              "      <td>...</td>\n",
              "      <td>...</td>\n",
              "      <td>...</td>\n",
              "      <td>...</td>\n",
              "      <td>...</td>\n",
              "      <td>...</td>\n",
              "      <td>...</td>\n",
              "      <td>...</td>\n",
              "      <td>...</td>\n",
              "      <td>...</td>\n",
              "    </tr>\n",
              "    <tr>\n",
              "      <th>421763</th>\n",
              "      <td>421763</td>\n",
              "      <td>87.0</td>\n",
              "      <td>581</td>\n",
              "      <td>NaN</td>\n",
              "      <td>280.0</td>\n",
              "      <td>9.0</td>\n",
              "      <td>73.0</td>\n",
              "      <td>10.0</td>\n",
              "      <td>40.0</td>\n",
              "      <td>28.88</td>\n",
              "      <td>4</td>\n",
              "    </tr>\n",
              "    <tr>\n",
              "      <th>421764</th>\n",
              "      <td>421764</td>\n",
              "      <td>93.0</td>\n",
              "      <td>760</td>\n",
              "      <td>NaN</td>\n",
              "      <td>300.0</td>\n",
              "      <td>17.0</td>\n",
              "      <td>63.0</td>\n",
              "      <td>10.0</td>\n",
              "      <td>43.0</td>\n",
              "      <td>28.94</td>\n",
              "      <td>4</td>\n",
              "    </tr>\n",
              "    <tr>\n",
              "      <th>421765</th>\n",
              "      <td>421765</td>\n",
              "      <td>83.0</td>\n",
              "      <td>581</td>\n",
              "      <td>NaN</td>\n",
              "      <td>270.0</td>\n",
              "      <td>16.0</td>\n",
              "      <td>36.0</td>\n",
              "      <td>10.0</td>\n",
              "      <td>56.0</td>\n",
              "      <td>28.89</td>\n",
              "      <td>4</td>\n",
              "    </tr>\n",
              "    <tr>\n",
              "      <th>421766</th>\n",
              "      <td>421766</td>\n",
              "      <td>101.0</td>\n",
              "      <td>760</td>\n",
              "      <td>NaN</td>\n",
              "      <td>270.0</td>\n",
              "      <td>11.0</td>\n",
              "      <td>41.0</td>\n",
              "      <td>10.0</td>\n",
              "      <td>50.0</td>\n",
              "      <td>28.89</td>\n",
              "      <td>4</td>\n",
              "    </tr>\n",
              "    <tr>\n",
              "      <th>421767</th>\n",
              "      <td>421767</td>\n",
              "      <td>82.0</td>\n",
              "      <td>718</td>\n",
              "      <td>NaN</td>\n",
              "      <td>300.0</td>\n",
              "      <td>17.0</td>\n",
              "      <td>63.0</td>\n",
              "      <td>10.0</td>\n",
              "      <td>43.0</td>\n",
              "      <td>28.94</td>\n",
              "      <td>4</td>\n",
              "    </tr>\n",
              "  </tbody>\n",
              "</table>\n",
              "<p>417959 rows × 11 columns</p>\n",
              "</div>\n",
              "    <div class=\"colab-df-buttons\">\n",
              "\n",
              "  <div class=\"colab-df-container\">\n",
              "    <button class=\"colab-df-convert\" onclick=\"convertToInteractive('df-f6065f8b-f8b4-4045-abc9-2b3c90ae0861')\"\n",
              "            title=\"Convert this dataframe to an interactive table.\"\n",
              "            style=\"display:none;\">\n",
              "\n",
              "  <svg xmlns=\"http://www.w3.org/2000/svg\" height=\"24px\" viewBox=\"0 -960 960 960\">\n",
              "    <path d=\"M120-120v-720h720v720H120Zm60-500h600v-160H180v160Zm220 220h160v-160H400v160Zm0 220h160v-160H400v160ZM180-400h160v-160H180v160Zm440 0h160v-160H620v160ZM180-180h160v-160H180v160Zm440 0h160v-160H620v160Z\"/>\n",
              "  </svg>\n",
              "    </button>\n",
              "\n",
              "  <style>\n",
              "    .colab-df-container {\n",
              "      display:flex;\n",
              "      gap: 12px;\n",
              "    }\n",
              "\n",
              "    .colab-df-convert {\n",
              "      background-color: #E8F0FE;\n",
              "      border: none;\n",
              "      border-radius: 50%;\n",
              "      cursor: pointer;\n",
              "      display: none;\n",
              "      fill: #1967D2;\n",
              "      height: 32px;\n",
              "      padding: 0 0 0 0;\n",
              "      width: 32px;\n",
              "    }\n",
              "\n",
              "    .colab-df-convert:hover {\n",
              "      background-color: #E2EBFA;\n",
              "      box-shadow: 0px 1px 2px rgba(60, 64, 67, 0.3), 0px 1px 3px 1px rgba(60, 64, 67, 0.15);\n",
              "      fill: #174EA6;\n",
              "    }\n",
              "\n",
              "    .colab-df-buttons div {\n",
              "      margin-bottom: 4px;\n",
              "    }\n",
              "\n",
              "    [theme=dark] .colab-df-convert {\n",
              "      background-color: #3B4455;\n",
              "      fill: #D2E3FC;\n",
              "    }\n",
              "\n",
              "    [theme=dark] .colab-df-convert:hover {\n",
              "      background-color: #434B5C;\n",
              "      box-shadow: 0px 1px 3px 1px rgba(0, 0, 0, 0.15);\n",
              "      filter: drop-shadow(0px 1px 2px rgba(0, 0, 0, 0.3));\n",
              "      fill: #FFFFFF;\n",
              "    }\n",
              "  </style>\n",
              "\n",
              "    <script>\n",
              "      const buttonEl =\n",
              "        document.querySelector('#df-f6065f8b-f8b4-4045-abc9-2b3c90ae0861 button.colab-df-convert');\n",
              "      buttonEl.style.display =\n",
              "        google.colab.kernel.accessAllowed ? 'block' : 'none';\n",
              "\n",
              "      async function convertToInteractive(key) {\n",
              "        const element = document.querySelector('#df-f6065f8b-f8b4-4045-abc9-2b3c90ae0861');\n",
              "        const dataTable =\n",
              "          await google.colab.kernel.invokeFunction('convertToInteractive',\n",
              "                                                    [key], {});\n",
              "        if (!dataTable) return;\n",
              "\n",
              "        const docLinkHtml = 'Like what you see? Visit the ' +\n",
              "          '<a target=\"_blank\" href=https://colab.research.google.com/notebooks/data_table.ipynb>data table notebook</a>'\n",
              "          + ' to learn more about interactive tables.';\n",
              "        element.innerHTML = '';\n",
              "        dataTable['output_type'] = 'display_data';\n",
              "        await google.colab.output.renderOutput(dataTable, element);\n",
              "        const docLink = document.createElement('div');\n",
              "        docLink.innerHTML = docLinkHtml;\n",
              "        element.appendChild(docLink);\n",
              "      }\n",
              "    </script>\n",
              "  </div>\n",
              "\n",
              "\n",
              "<div id=\"df-4fc8c691-0feb-4aa2-a945-abf67664d351\">\n",
              "  <button class=\"colab-df-quickchart\" onclick=\"quickchart('df-4fc8c691-0feb-4aa2-a945-abf67664d351')\"\n",
              "            title=\"Suggest charts\"\n",
              "            style=\"display:none;\">\n",
              "\n",
              "<svg xmlns=\"http://www.w3.org/2000/svg\" height=\"24px\"viewBox=\"0 0 24 24\"\n",
              "     width=\"24px\">\n",
              "    <g>\n",
              "        <path d=\"M19 3H5c-1.1 0-2 .9-2 2v14c0 1.1.9 2 2 2h14c1.1 0 2-.9 2-2V5c0-1.1-.9-2-2-2zM9 17H7v-7h2v7zm4 0h-2V7h2v10zm4 0h-2v-4h2v4z\"/>\n",
              "    </g>\n",
              "</svg>\n",
              "  </button>\n",
              "\n",
              "<style>\n",
              "  .colab-df-quickchart {\n",
              "      --bg-color: #E8F0FE;\n",
              "      --fill-color: #1967D2;\n",
              "      --hover-bg-color: #E2EBFA;\n",
              "      --hover-fill-color: #174EA6;\n",
              "      --disabled-fill-color: #AAA;\n",
              "      --disabled-bg-color: #DDD;\n",
              "  }\n",
              "\n",
              "  [theme=dark] .colab-df-quickchart {\n",
              "      --bg-color: #3B4455;\n",
              "      --fill-color: #D2E3FC;\n",
              "      --hover-bg-color: #434B5C;\n",
              "      --hover-fill-color: #FFFFFF;\n",
              "      --disabled-bg-color: #3B4455;\n",
              "      --disabled-fill-color: #666;\n",
              "  }\n",
              "\n",
              "  .colab-df-quickchart {\n",
              "    background-color: var(--bg-color);\n",
              "    border: none;\n",
              "    border-radius: 50%;\n",
              "    cursor: pointer;\n",
              "    display: none;\n",
              "    fill: var(--fill-color);\n",
              "    height: 32px;\n",
              "    padding: 0;\n",
              "    width: 32px;\n",
              "  }\n",
              "\n",
              "  .colab-df-quickchart:hover {\n",
              "    background-color: var(--hover-bg-color);\n",
              "    box-shadow: 0 1px 2px rgba(60, 64, 67, 0.3), 0 1px 3px 1px rgba(60, 64, 67, 0.15);\n",
              "    fill: var(--button-hover-fill-color);\n",
              "  }\n",
              "\n",
              "  .colab-df-quickchart-complete:disabled,\n",
              "  .colab-df-quickchart-complete:disabled:hover {\n",
              "    background-color: var(--disabled-bg-color);\n",
              "    fill: var(--disabled-fill-color);\n",
              "    box-shadow: none;\n",
              "  }\n",
              "\n",
              "  .colab-df-spinner {\n",
              "    border: 2px solid var(--fill-color);\n",
              "    border-color: transparent;\n",
              "    border-bottom-color: var(--fill-color);\n",
              "    animation:\n",
              "      spin 1s steps(1) infinite;\n",
              "  }\n",
              "\n",
              "  @keyframes spin {\n",
              "    0% {\n",
              "      border-color: transparent;\n",
              "      border-bottom-color: var(--fill-color);\n",
              "      border-left-color: var(--fill-color);\n",
              "    }\n",
              "    20% {\n",
              "      border-color: transparent;\n",
              "      border-left-color: var(--fill-color);\n",
              "      border-top-color: var(--fill-color);\n",
              "    }\n",
              "    30% {\n",
              "      border-color: transparent;\n",
              "      border-left-color: var(--fill-color);\n",
              "      border-top-color: var(--fill-color);\n",
              "      border-right-color: var(--fill-color);\n",
              "    }\n",
              "    40% {\n",
              "      border-color: transparent;\n",
              "      border-right-color: var(--fill-color);\n",
              "      border-top-color: var(--fill-color);\n",
              "    }\n",
              "    60% {\n",
              "      border-color: transparent;\n",
              "      border-right-color: var(--fill-color);\n",
              "    }\n",
              "    80% {\n",
              "      border-color: transparent;\n",
              "      border-right-color: var(--fill-color);\n",
              "      border-bottom-color: var(--fill-color);\n",
              "    }\n",
              "    90% {\n",
              "      border-color: transparent;\n",
              "      border-bottom-color: var(--fill-color);\n",
              "    }\n",
              "  }\n",
              "</style>\n",
              "\n",
              "  <script>\n",
              "    async function quickchart(key) {\n",
              "      const quickchartButtonEl =\n",
              "        document.querySelector('#' + key + ' button');\n",
              "      quickchartButtonEl.disabled = true;  // To prevent multiple clicks.\n",
              "      quickchartButtonEl.classList.add('colab-df-spinner');\n",
              "      try {\n",
              "        const charts = await google.colab.kernel.invokeFunction(\n",
              "            'suggestCharts', [key], {});\n",
              "      } catch (error) {\n",
              "        console.error('Error during call to suggestCharts:', error);\n",
              "      }\n",
              "      quickchartButtonEl.classList.remove('colab-df-spinner');\n",
              "      quickchartButtonEl.classList.add('colab-df-quickchart-complete');\n",
              "    }\n",
              "    (() => {\n",
              "      let quickchartButtonEl =\n",
              "        document.querySelector('#df-4fc8c691-0feb-4aa2-a945-abf67664d351 button');\n",
              "      quickchartButtonEl.style.display =\n",
              "        google.colab.kernel.accessAllowed ? 'block' : 'none';\n",
              "    })();\n",
              "  </script>\n",
              "</div>\n",
              "\n",
              "    </div>\n",
              "  </div>\n"
            ],
            "application/vnd.google.colaboratory.intrinsic+json": {
              "type": "dataframe"
            }
          },
          "metadata": {},
          "execution_count": 64
        }
      ],
      "source": [
        "df = df.dropna(subset=[\"ARR_TIME\",\"CANCELLED\",\"ARR_DELAY_NEW\",\"AIR_TIME\"], axis=0)\n",
        "print(df.isna().sum())\n",
        "print(len(df))\n",
        "df.drop(['FL_DATE','ORIGIN_STATE_NM','DEST_STATE_NM','ARR_TIME','CANCELLED','SECURITY_DELAY','NAS_DELAY','LATE_AIRCRAFT_DELAY','count','time1','time2','time3','timestamp','time','try','CARRIER_DELAY','DEP_DELAY_NEW','ARR_DELAY_NEW','TAIL_NUM','DEP_TIME'], axis = 1)"
      ]
    },
    {
      "cell_type": "code",
      "execution_count": 65,
      "metadata": {
        "colab": {
          "base_uri": "https://localhost:8080/",
          "height": 424
        },
        "id": "fkc-iYhzti7M",
        "outputId": "cff3cda7-7c26-41c6-ac55-9886f0f5fa08"
      },
      "outputs": [
        {
          "output_type": "execute_result",
          "data": {
            "text/plain": [
              "        WindDirection  WindSpeed  Humidity  visibility  temperature  presure  \\\n",
              "6                90.0        9.0      57.0       10.00         35.0    29.00   \n",
              "10              350.0       13.0      70.0       10.00         36.0    29.00   \n",
              "14              160.0       10.0      96.0        1.00         55.0    28.00   \n",
              "17              110.0       14.0      32.0       10.00         34.0    29.00   \n",
              "18              120.0        9.0      80.0        8.00         48.0    29.00   \n",
              "...               ...        ...       ...         ...          ...      ...   \n",
              "421754          260.0        9.0      38.0       10.00         60.0    28.78   \n",
              "421755          280.0       13.0      47.0        9.94         52.0    28.82   \n",
              "421758          270.0       10.0      38.0       10.00         55.0    28.81   \n",
              "421759          270.0       15.0      50.0       10.00         58.0    28.82   \n",
              "421761          260.0        8.0      52.0       10.00         49.0    28.84   \n",
              "\n",
              "        season  WEATHER_DELAY  \n",
              "6            1            0.0  \n",
              "10           1            0.0  \n",
              "14           1            0.0  \n",
              "17           1            0.0  \n",
              "18           1            0.0  \n",
              "...        ...            ...  \n",
              "421754       4            0.0  \n",
              "421755       4            0.0  \n",
              "421758       4            0.0  \n",
              "421759       4            0.0  \n",
              "421761       4            0.0  \n",
              "\n",
              "[63984 rows x 8 columns]"
            ],
            "text/html": [
              "\n",
              "  <div id=\"df-5285320d-2578-4b60-9f3b-949261e92461\" class=\"colab-df-container\">\n",
              "    <div>\n",
              "<style scoped>\n",
              "    .dataframe tbody tr th:only-of-type {\n",
              "        vertical-align: middle;\n",
              "    }\n",
              "\n",
              "    .dataframe tbody tr th {\n",
              "        vertical-align: top;\n",
              "    }\n",
              "\n",
              "    .dataframe thead th {\n",
              "        text-align: right;\n",
              "    }\n",
              "</style>\n",
              "<table border=\"1\" class=\"dataframe\">\n",
              "  <thead>\n",
              "    <tr style=\"text-align: right;\">\n",
              "      <th></th>\n",
              "      <th>WindDirection</th>\n",
              "      <th>WindSpeed</th>\n",
              "      <th>Humidity</th>\n",
              "      <th>visibility</th>\n",
              "      <th>temperature</th>\n",
              "      <th>presure</th>\n",
              "      <th>season</th>\n",
              "      <th>WEATHER_DELAY</th>\n",
              "    </tr>\n",
              "  </thead>\n",
              "  <tbody>\n",
              "    <tr>\n",
              "      <th>6</th>\n",
              "      <td>90.0</td>\n",
              "      <td>9.0</td>\n",
              "      <td>57.0</td>\n",
              "      <td>10.00</td>\n",
              "      <td>35.0</td>\n",
              "      <td>29.00</td>\n",
              "      <td>1</td>\n",
              "      <td>0.0</td>\n",
              "    </tr>\n",
              "    <tr>\n",
              "      <th>10</th>\n",
              "      <td>350.0</td>\n",
              "      <td>13.0</td>\n",
              "      <td>70.0</td>\n",
              "      <td>10.00</td>\n",
              "      <td>36.0</td>\n",
              "      <td>29.00</td>\n",
              "      <td>1</td>\n",
              "      <td>0.0</td>\n",
              "    </tr>\n",
              "    <tr>\n",
              "      <th>14</th>\n",
              "      <td>160.0</td>\n",
              "      <td>10.0</td>\n",
              "      <td>96.0</td>\n",
              "      <td>1.00</td>\n",
              "      <td>55.0</td>\n",
              "      <td>28.00</td>\n",
              "      <td>1</td>\n",
              "      <td>0.0</td>\n",
              "    </tr>\n",
              "    <tr>\n",
              "      <th>17</th>\n",
              "      <td>110.0</td>\n",
              "      <td>14.0</td>\n",
              "      <td>32.0</td>\n",
              "      <td>10.00</td>\n",
              "      <td>34.0</td>\n",
              "      <td>29.00</td>\n",
              "      <td>1</td>\n",
              "      <td>0.0</td>\n",
              "    </tr>\n",
              "    <tr>\n",
              "      <th>18</th>\n",
              "      <td>120.0</td>\n",
              "      <td>9.0</td>\n",
              "      <td>80.0</td>\n",
              "      <td>8.00</td>\n",
              "      <td>48.0</td>\n",
              "      <td>29.00</td>\n",
              "      <td>1</td>\n",
              "      <td>0.0</td>\n",
              "    </tr>\n",
              "    <tr>\n",
              "      <th>...</th>\n",
              "      <td>...</td>\n",
              "      <td>...</td>\n",
              "      <td>...</td>\n",
              "      <td>...</td>\n",
              "      <td>...</td>\n",
              "      <td>...</td>\n",
              "      <td>...</td>\n",
              "      <td>...</td>\n",
              "    </tr>\n",
              "    <tr>\n",
              "      <th>421754</th>\n",
              "      <td>260.0</td>\n",
              "      <td>9.0</td>\n",
              "      <td>38.0</td>\n",
              "      <td>10.00</td>\n",
              "      <td>60.0</td>\n",
              "      <td>28.78</td>\n",
              "      <td>4</td>\n",
              "      <td>0.0</td>\n",
              "    </tr>\n",
              "    <tr>\n",
              "      <th>421755</th>\n",
              "      <td>280.0</td>\n",
              "      <td>13.0</td>\n",
              "      <td>47.0</td>\n",
              "      <td>9.94</td>\n",
              "      <td>52.0</td>\n",
              "      <td>28.82</td>\n",
              "      <td>4</td>\n",
              "      <td>0.0</td>\n",
              "    </tr>\n",
              "    <tr>\n",
              "      <th>421758</th>\n",
              "      <td>270.0</td>\n",
              "      <td>10.0</td>\n",
              "      <td>38.0</td>\n",
              "      <td>10.00</td>\n",
              "      <td>55.0</td>\n",
              "      <td>28.81</td>\n",
              "      <td>4</td>\n",
              "      <td>0.0</td>\n",
              "    </tr>\n",
              "    <tr>\n",
              "      <th>421759</th>\n",
              "      <td>270.0</td>\n",
              "      <td>15.0</td>\n",
              "      <td>50.0</td>\n",
              "      <td>10.00</td>\n",
              "      <td>58.0</td>\n",
              "      <td>28.82</td>\n",
              "      <td>4</td>\n",
              "      <td>0.0</td>\n",
              "    </tr>\n",
              "    <tr>\n",
              "      <th>421761</th>\n",
              "      <td>260.0</td>\n",
              "      <td>8.0</td>\n",
              "      <td>52.0</td>\n",
              "      <td>10.00</td>\n",
              "      <td>49.0</td>\n",
              "      <td>28.84</td>\n",
              "      <td>4</td>\n",
              "      <td>0.0</td>\n",
              "    </tr>\n",
              "  </tbody>\n",
              "</table>\n",
              "<p>63984 rows × 8 columns</p>\n",
              "</div>\n",
              "    <div class=\"colab-df-buttons\">\n",
              "\n",
              "  <div class=\"colab-df-container\">\n",
              "    <button class=\"colab-df-convert\" onclick=\"convertToInteractive('df-5285320d-2578-4b60-9f3b-949261e92461')\"\n",
              "            title=\"Convert this dataframe to an interactive table.\"\n",
              "            style=\"display:none;\">\n",
              "\n",
              "  <svg xmlns=\"http://www.w3.org/2000/svg\" height=\"24px\" viewBox=\"0 -960 960 960\">\n",
              "    <path d=\"M120-120v-720h720v720H120Zm60-500h600v-160H180v160Zm220 220h160v-160H400v160Zm0 220h160v-160H400v160ZM180-400h160v-160H180v160Zm440 0h160v-160H620v160ZM180-180h160v-160H180v160Zm440 0h160v-160H620v160Z\"/>\n",
              "  </svg>\n",
              "    </button>\n",
              "\n",
              "  <style>\n",
              "    .colab-df-container {\n",
              "      display:flex;\n",
              "      gap: 12px;\n",
              "    }\n",
              "\n",
              "    .colab-df-convert {\n",
              "      background-color: #E8F0FE;\n",
              "      border: none;\n",
              "      border-radius: 50%;\n",
              "      cursor: pointer;\n",
              "      display: none;\n",
              "      fill: #1967D2;\n",
              "      height: 32px;\n",
              "      padding: 0 0 0 0;\n",
              "      width: 32px;\n",
              "    }\n",
              "\n",
              "    .colab-df-convert:hover {\n",
              "      background-color: #E2EBFA;\n",
              "      box-shadow: 0px 1px 2px rgba(60, 64, 67, 0.3), 0px 1px 3px 1px rgba(60, 64, 67, 0.15);\n",
              "      fill: #174EA6;\n",
              "    }\n",
              "\n",
              "    .colab-df-buttons div {\n",
              "      margin-bottom: 4px;\n",
              "    }\n",
              "\n",
              "    [theme=dark] .colab-df-convert {\n",
              "      background-color: #3B4455;\n",
              "      fill: #D2E3FC;\n",
              "    }\n",
              "\n",
              "    [theme=dark] .colab-df-convert:hover {\n",
              "      background-color: #434B5C;\n",
              "      box-shadow: 0px 1px 3px 1px rgba(0, 0, 0, 0.15);\n",
              "      filter: drop-shadow(0px 1px 2px rgba(0, 0, 0, 0.3));\n",
              "      fill: #FFFFFF;\n",
              "    }\n",
              "  </style>\n",
              "\n",
              "    <script>\n",
              "      const buttonEl =\n",
              "        document.querySelector('#df-5285320d-2578-4b60-9f3b-949261e92461 button.colab-df-convert');\n",
              "      buttonEl.style.display =\n",
              "        google.colab.kernel.accessAllowed ? 'block' : 'none';\n",
              "\n",
              "      async function convertToInteractive(key) {\n",
              "        const element = document.querySelector('#df-5285320d-2578-4b60-9f3b-949261e92461');\n",
              "        const dataTable =\n",
              "          await google.colab.kernel.invokeFunction('convertToInteractive',\n",
              "                                                    [key], {});\n",
              "        if (!dataTable) return;\n",
              "\n",
              "        const docLinkHtml = 'Like what you see? Visit the ' +\n",
              "          '<a target=\"_blank\" href=https://colab.research.google.com/notebooks/data_table.ipynb>data table notebook</a>'\n",
              "          + ' to learn more about interactive tables.';\n",
              "        element.innerHTML = '';\n",
              "        dataTable['output_type'] = 'display_data';\n",
              "        await google.colab.output.renderOutput(dataTable, element);\n",
              "        const docLink = document.createElement('div');\n",
              "        docLink.innerHTML = docLinkHtml;\n",
              "        element.appendChild(docLink);\n",
              "      }\n",
              "    </script>\n",
              "  </div>\n",
              "\n",
              "\n",
              "<div id=\"df-32c7a30d-53ae-4c8e-b76b-e659c4e98620\">\n",
              "  <button class=\"colab-df-quickchart\" onclick=\"quickchart('df-32c7a30d-53ae-4c8e-b76b-e659c4e98620')\"\n",
              "            title=\"Suggest charts\"\n",
              "            style=\"display:none;\">\n",
              "\n",
              "<svg xmlns=\"http://www.w3.org/2000/svg\" height=\"24px\"viewBox=\"0 0 24 24\"\n",
              "     width=\"24px\">\n",
              "    <g>\n",
              "        <path d=\"M19 3H5c-1.1 0-2 .9-2 2v14c0 1.1.9 2 2 2h14c1.1 0 2-.9 2-2V5c0-1.1-.9-2-2-2zM9 17H7v-7h2v7zm4 0h-2V7h2v10zm4 0h-2v-4h2v4z\"/>\n",
              "    </g>\n",
              "</svg>\n",
              "  </button>\n",
              "\n",
              "<style>\n",
              "  .colab-df-quickchart {\n",
              "      --bg-color: #E8F0FE;\n",
              "      --fill-color: #1967D2;\n",
              "      --hover-bg-color: #E2EBFA;\n",
              "      --hover-fill-color: #174EA6;\n",
              "      --disabled-fill-color: #AAA;\n",
              "      --disabled-bg-color: #DDD;\n",
              "  }\n",
              "\n",
              "  [theme=dark] .colab-df-quickchart {\n",
              "      --bg-color: #3B4455;\n",
              "      --fill-color: #D2E3FC;\n",
              "      --hover-bg-color: #434B5C;\n",
              "      --hover-fill-color: #FFFFFF;\n",
              "      --disabled-bg-color: #3B4455;\n",
              "      --disabled-fill-color: #666;\n",
              "  }\n",
              "\n",
              "  .colab-df-quickchart {\n",
              "    background-color: var(--bg-color);\n",
              "    border: none;\n",
              "    border-radius: 50%;\n",
              "    cursor: pointer;\n",
              "    display: none;\n",
              "    fill: var(--fill-color);\n",
              "    height: 32px;\n",
              "    padding: 0;\n",
              "    width: 32px;\n",
              "  }\n",
              "\n",
              "  .colab-df-quickchart:hover {\n",
              "    background-color: var(--hover-bg-color);\n",
              "    box-shadow: 0 1px 2px rgba(60, 64, 67, 0.3), 0 1px 3px 1px rgba(60, 64, 67, 0.15);\n",
              "    fill: var(--button-hover-fill-color);\n",
              "  }\n",
              "\n",
              "  .colab-df-quickchart-complete:disabled,\n",
              "  .colab-df-quickchart-complete:disabled:hover {\n",
              "    background-color: var(--disabled-bg-color);\n",
              "    fill: var(--disabled-fill-color);\n",
              "    box-shadow: none;\n",
              "  }\n",
              "\n",
              "  .colab-df-spinner {\n",
              "    border: 2px solid var(--fill-color);\n",
              "    border-color: transparent;\n",
              "    border-bottom-color: var(--fill-color);\n",
              "    animation:\n",
              "      spin 1s steps(1) infinite;\n",
              "  }\n",
              "\n",
              "  @keyframes spin {\n",
              "    0% {\n",
              "      border-color: transparent;\n",
              "      border-bottom-color: var(--fill-color);\n",
              "      border-left-color: var(--fill-color);\n",
              "    }\n",
              "    20% {\n",
              "      border-color: transparent;\n",
              "      border-left-color: var(--fill-color);\n",
              "      border-top-color: var(--fill-color);\n",
              "    }\n",
              "    30% {\n",
              "      border-color: transparent;\n",
              "      border-left-color: var(--fill-color);\n",
              "      border-top-color: var(--fill-color);\n",
              "      border-right-color: var(--fill-color);\n",
              "    }\n",
              "    40% {\n",
              "      border-color: transparent;\n",
              "      border-right-color: var(--fill-color);\n",
              "      border-top-color: var(--fill-color);\n",
              "    }\n",
              "    60% {\n",
              "      border-color: transparent;\n",
              "      border-right-color: var(--fill-color);\n",
              "    }\n",
              "    80% {\n",
              "      border-color: transparent;\n",
              "      border-right-color: var(--fill-color);\n",
              "      border-bottom-color: var(--fill-color);\n",
              "    }\n",
              "    90% {\n",
              "      border-color: transparent;\n",
              "      border-bottom-color: var(--fill-color);\n",
              "    }\n",
              "  }\n",
              "</style>\n",
              "\n",
              "  <script>\n",
              "    async function quickchart(key) {\n",
              "      const quickchartButtonEl =\n",
              "        document.querySelector('#' + key + ' button');\n",
              "      quickchartButtonEl.disabled = true;  // To prevent multiple clicks.\n",
              "      quickchartButtonEl.classList.add('colab-df-spinner');\n",
              "      try {\n",
              "        const charts = await google.colab.kernel.invokeFunction(\n",
              "            'suggestCharts', [key], {});\n",
              "      } catch (error) {\n",
              "        console.error('Error during call to suggestCharts:', error);\n",
              "      }\n",
              "      quickchartButtonEl.classList.remove('colab-df-spinner');\n",
              "      quickchartButtonEl.classList.add('colab-df-quickchart-complete');\n",
              "    }\n",
              "    (() => {\n",
              "      let quickchartButtonEl =\n",
              "        document.querySelector('#df-32c7a30d-53ae-4c8e-b76b-e659c4e98620 button');\n",
              "      quickchartButtonEl.style.display =\n",
              "        google.colab.kernel.accessAllowed ? 'block' : 'none';\n",
              "    })();\n",
              "  </script>\n",
              "</div>\n",
              "\n",
              "    </div>\n",
              "  </div>\n"
            ],
            "application/vnd.google.colaboratory.intrinsic+json": {
              "type": "dataframe",
              "summary": "{\n  \"name\": \"df\",\n  \"rows\": 63984,\n  \"fields\": [\n    {\n      \"column\": \"WindDirection\",\n      \"properties\": {\n        \"dtype\": \"number\",\n        \"std\": 114.12531364514156,\n        \"min\": 0.0,\n        \"max\": 500.0,\n        \"num_unique_values\": 38,\n        \"samples\": [\n          30.0,\n          50.0,\n          120.0\n        ],\n        \"semantic_type\": \"\",\n        \"description\": \"\"\n      }\n    },\n    {\n      \"column\": \"WindSpeed\",\n      \"properties\": {\n        \"dtype\": \"number\",\n        \"std\": 4.811163510355443,\n        \"min\": 0.0,\n        \"max\": 41.0,\n        \"num_unique_values\": 30,\n        \"samples\": [\n          40.0,\n          7.0,\n          28.0\n        ],\n        \"semantic_type\": \"\",\n        \"description\": \"\"\n      }\n    },\n    {\n      \"column\": \"Humidity\",\n      \"properties\": {\n        \"dtype\": \"number\",\n        \"std\": 18.829596139383654,\n        \"min\": 0.0,\n        \"max\": 97.0,\n        \"num_unique_values\": 83,\n        \"samples\": [\n          77.0,\n          57.0,\n          68.0\n        ],\n        \"semantic_type\": \"\",\n        \"description\": \"\"\n      }\n    },\n    {\n      \"column\": \"visibility\",\n      \"properties\": {\n        \"dtype\": \"number\",\n        \"std\": 2.5361596286968004,\n        \"min\": 0.0,\n        \"max\": 10.0,\n        \"num_unique_values\": 31,\n        \"samples\": [\n          0.99,\n          6.84,\n          0.12\n        ],\n        \"semantic_type\": \"\",\n        \"description\": \"\"\n      }\n    },\n    {\n      \"column\": \"temperature\",\n      \"properties\": {\n        \"dtype\": \"number\",\n        \"std\": 15.568661256100185,\n        \"min\": 0.0,\n        \"max\": 99.0,\n        \"num_unique_values\": 79,\n        \"samples\": [\n          33.0,\n          35.0,\n          41.0\n        ],\n        \"semantic_type\": \"\",\n        \"description\": \"\"\n      }\n    },\n    {\n      \"column\": \"presure\",\n      \"properties\": {\n        \"dtype\": \"number\",\n        \"std\": 0.6933834100452857,\n        \"min\": 0.0,\n        \"max\": 29.49,\n        \"num_unique_values\": 111,\n        \"samples\": [\n          28.55,\n          28.82,\n          28.71\n        ],\n        \"semantic_type\": \"\",\n        \"description\": \"\"\n      }\n    },\n    {\n      \"column\": \"season\",\n      \"properties\": {\n        \"dtype\": \"number\",\n        \"std\": 1,\n        \"min\": 0,\n        \"max\": 4,\n        \"num_unique_values\": 5,\n        \"samples\": [\n          0,\n          4,\n          2\n        ],\n        \"semantic_type\": \"\",\n        \"description\": \"\"\n      }\n    },\n    {\n      \"column\": \"WEATHER_DELAY\",\n      \"properties\": {\n        \"dtype\": \"number\",\n        \"std\": 37.50056375902927,\n        \"min\": 0.0,\n        \"max\": 1332.0,\n        \"num_unique_values\": 402,\n        \"samples\": [\n          119.0,\n          209.0,\n          108.0\n        ],\n        \"semantic_type\": \"\",\n        \"description\": \"\"\n      }\n    }\n  ]\n}"
            }
          },
          "metadata": {},
          "execution_count": 65
        }
      ],
      "source": [
        "df = df.loc[:, ['WindDirection','WindSpeed','Humidity','visibility','temperature','presure','season','WEATHER_DELAY']]\n",
        "df.dropna(how='any', axis=0)"
      ]
    },
    {
      "cell_type": "code",
      "execution_count": 66,
      "metadata": {
        "colab": {
          "base_uri": "https://localhost:8080/"
        },
        "id": "nPizBDR-5FSv",
        "outputId": "6f12b019-1ac3-497a-cff5-2a7d5289b628"
      },
      "outputs": [
        {
          "output_type": "execute_result",
          "data": {
            "text/plain": [
              "417959"
            ]
          },
          "metadata": {},
          "execution_count": 66
        }
      ],
      "source": [
        "len(df)"
      ]
    },
    {
      "cell_type": "code",
      "execution_count": 67,
      "metadata": {
        "id": "1-xYeZ3fWqyN"
      },
      "outputs": [],
      "source": [
        "X = df.loc[:, ['WindDirection','WindSpeed','Humidity','visibility','temperature','presure','season']]\n",
        "y = df.loc[:, 'WEATHER_DELAY']"
      ]
    },
    {
      "cell_type": "code",
      "execution_count": 68,
      "metadata": {
        "colab": {
          "base_uri": "https://localhost:8080/"
        },
        "id": "ajqOAz1WYu6w",
        "outputId": "96cbc835-e6b3-40f2-b181-22d28a71746e"
      },
      "outputs": [
        {
          "output_type": "execute_result",
          "data": {
            "text/plain": [
              "0        NaN\n",
              "1        NaN\n",
              "2        NaN\n",
              "3        NaN\n",
              "4        NaN\n",
              "          ..\n",
              "421763   NaN\n",
              "421764   NaN\n",
              "421765   NaN\n",
              "421766   NaN\n",
              "421767   NaN\n",
              "Name: WEATHER_DELAY, Length: 417959, dtype: float64"
            ]
          },
          "metadata": {},
          "execution_count": 68
        }
      ],
      "source": [
        "y"
      ]
    },
    {
      "cell_type": "code",
      "execution_count": 69,
      "metadata": {
        "colab": {
          "base_uri": "https://localhost:8080/"
        },
        "id": "--iPLePQr27v",
        "outputId": "c6511a07-eb83-4537-d408-6dd6a3912300"
      },
      "outputs": [
        {
          "output_type": "stream",
          "name": "stdout",
          "text": [
            "WindDirection    3380\n",
            "WindSpeed        1347\n",
            "Humidity         1270\n",
            "visibility       1270\n",
            "temperature      1270\n",
            "presure          3768\n",
            "season              0\n",
            "dtype: int64\n",
            "351997\n"
          ]
        }
      ],
      "source": [
        "print(X.isnull().sum())\n",
        "print(y.isnull().sum())"
      ]
    },
    {
      "cell_type": "code",
      "execution_count": 70,
      "metadata": {
        "colab": {
          "base_uri": "https://localhost:8080/"
        },
        "id": "8MpI-Xg6rddj",
        "outputId": "4355396b-8e94-412e-8f9d-d4508196031a"
      },
      "outputs": [
        {
          "output_type": "stream",
          "name": "stdout",
          "text": [
            "[[300.    14.    68.   ...  46.    28.     1.  ]\n",
            " [310.     8.    71.   ...  47.    29.     1.  ]\n",
            " [100.     5.    74.   ...  50.    29.     1.  ]\n",
            " ...\n",
            " [270.    16.    36.   ...  56.    28.89   4.  ]\n",
            " [270.    11.    41.   ...  50.    28.89   4.  ]\n",
            " [300.    17.    63.   ...  43.    28.94   4.  ]]\n"
          ]
        }
      ],
      "source": [
        "missing_values = X.isnull().sum()\n",
        "for i in missing_values:\n",
        "  if i >= 0.0:\n",
        "    X.interpolate(method = 'linear', inplace = True)\n",
        "X = X.values\n",
        "print(X)"
      ]
    },
    {
      "cell_type": "code",
      "execution_count": 71,
      "metadata": {
        "colab": {
          "base_uri": "https://localhost:8080/"
        },
        "id": "lZE8jlxbvrDB",
        "outputId": "0d1f0a54-bb80-4dd6-9388-9317e587af1b"
      },
      "outputs": [
        {
          "output_type": "stream",
          "name": "stdout",
          "text": [
            "417959\n",
            "417959\n"
          ]
        },
        {
          "output_type": "execute_result",
          "data": {
            "text/plain": [
              "numpy.ndarray"
            ]
          },
          "metadata": {},
          "execution_count": 71
        }
      ],
      "source": [
        "print(len(X))\n",
        "print(len(y))\n",
        "type(y)\n",
        "type(X)"
      ]
    },
    {
      "cell_type": "code",
      "execution_count": 72,
      "metadata": {
        "id": "dDob9C0IixAw"
      },
      "outputs": [],
      "source": [
        "Y = []\n",
        "for i in y:\n",
        "  if math.isnan(i):\n",
        "    Y.append(0)\n",
        "  else:\n",
        "    if i >= 15.0:\n",
        "      Y.append(1)\n",
        "    if i < 15.00:\n",
        "      Y.append(0)\n",
        "y = Y"
      ]
    },
    {
      "cell_type": "code",
      "execution_count": 73,
      "metadata": {
        "colab": {
          "base_uri": "https://localhost:8080/"
        },
        "id": "EmsGXPOyBscY",
        "outputId": "1dbc4635-1bf3-498a-c52d-d0ea36b022b3"
      },
      "outputs": [
        {
          "output_type": "stream",
          "name": "stdout",
          "text": [
            "417959\n",
            "Weather Delay\n",
            "0    0.993475\n",
            "1    0.006525\n",
            "Name: proportion, dtype: float64\n",
            "Weather Delay\n",
            "0    415232\n",
            "1      2727\n",
            "Name: count, dtype: int64\n"
          ]
        }
      ],
      "source": [
        "y = pd.DataFrame(data=y,columns=['Weather Delay'])\n",
        "X1 = X\n",
        "y1 = y\n",
        "print(len(y))\n",
        "print(y['Weather Delay'].value_counts(1))\n",
        "print(y['Weather Delay'].value_counts(0))"
      ]
    },
    {
      "cell_type": "markdown",
      "source": [
        "##Over-Sampling Models"
      ],
      "metadata": {
        "id": "ozKjKjrZHPyY"
      }
    },
    {
      "cell_type": "code",
      "source": [
        "print(y.value_counts())\n",
        "y.value_counts().plot.pie()"
      ],
      "metadata": {
        "colab": {
          "base_uri": "https://localhost:8080/",
          "height": 493
        },
        "id": "XzG3j_M33Ltv",
        "outputId": "b7ada46d-b507-4ea0-8d02-b379526c056a"
      },
      "execution_count": 74,
      "outputs": [
        {
          "output_type": "stream",
          "name": "stdout",
          "text": [
            "Weather Delay\n",
            "0                415232\n",
            "1                  2727\n",
            "Name: count, dtype: int64\n"
          ]
        },
        {
          "output_type": "execute_result",
          "data": {
            "text/plain": [
              "<Axes: ylabel='count'>"
            ]
          },
          "metadata": {},
          "execution_count": 74
        },
        {
          "output_type": "display_data",
          "data": {
            "text/plain": [
              "<Figure size 640x480 with 1 Axes>"
            ],
            "image/png": "[encoded data removed]"
          },
          "metadata": {}
        }
      ]
    },
    {
      "cell_type": "code",
      "source": [
        "from imblearn.over_sampling import RandomOverSampler\n",
        "ros = RandomOverSampler(sampling_strategy = 1, random_state = 47)\n",
        "X_res, y_res = ros.fit_resample(X, y)\n",
        "ax = y_res.value_counts().plot.pie(autopct='%.2f')\n",
        "_ = ax.set_title(\"Over-sampling\")"
      ],
      "metadata": {
        "colab": {
          "base_uri": "https://localhost:8080/",
          "height": 428
        },
        "id": "VNBy6XvbeYr8",
        "outputId": "583188e5-1705-4c9d-a480-108b2cf4a4e3"
      },
      "execution_count": 75,
      "outputs": [
        {
          "output_type": "display_data",
          "data": {
            "text/plain": [
              "<Figure size 640x480 with 1 Axes>"
            ],
            "image/png": "[encoded data removed]"
          },
          "metadata": {}
        }
      ]
    },
    {
      "cell_type": "code",
      "source": [
        "print(len(X_res))\n",
        "print(len(y_res))"
      ],
      "metadata": {
        "colab": {
          "base_uri": "https://localhost:8080/"
        },
        "id": "SpMCPAD1VCau",
        "outputId": "41cbef81-d96f-4cd3-f76b-5dc9e8c1717a"
      },
      "execution_count": 76,
      "outputs": [
        {
          "output_type": "stream",
          "name": "stdout",
          "text": [
            "830464\n",
            "830464\n"
          ]
        }
      ]
    },
    {
      "cell_type": "code",
      "execution_count": 77,
      "metadata": {
        "id": "Ak9sp7KIWq03"
      },
      "outputs": [],
      "source": [
        "X = X_res\n",
        "y = y_res\n",
        "X = pd.DataFrame(data=X,columns = ['WindDirection','WindSpeed','Humidity','visibility','temperature','presure','season'])\n",
        "y = pd.DataFrame(data=y,columns=['Weather Delay'])\n",
        "X_train, X_test, y_train, y_test = train_test_split(X,y, test_size= .30,random_state = 47, stratify=y)"
      ]
    },
    {
      "cell_type": "code",
      "execution_count": 78,
      "metadata": {
        "colab": {
          "base_uri": "https://localhost:8080/"
        },
        "id": "WRj-ljEQAGdK",
        "outputId": "02468d32-de94-4554-9344-49019153b30c"
      },
      "outputs": [
        {
          "output_type": "stream",
          "name": "stdout",
          "text": [
            "581324\n",
            "581324\n",
            "249140\n",
            "249140\n",
            "<class 'pandas.core.frame.DataFrame'>\n",
            "<class 'pandas.core.frame.DataFrame'>\n"
          ]
        }
      ],
      "source": [
        "print(len(X_train))\n",
        "print(len(y_train))\n",
        "print(len(X_test))\n",
        "print(len(y_test))\n",
        "print(type(X))\n",
        "print(type(y))"
      ]
    },
    {
      "cell_type": "markdown",
      "source": [
        "##K's Nearest Neighbors Classifier"
      ],
      "metadata": {
        "id": "2sOXNbPXj9QZ"
      }
    },
    {
      "cell_type": "code",
      "execution_count": 79,
      "metadata": {
        "colab": {
          "base_uri": "https://localhost:8080/"
        },
        "id": "mbfWZAJjSmC9",
        "outputId": "89d28294-3a1e-4f5d-adb9-697a0219ffc4"
      },
      "outputs": [
        {
          "output_type": "stream",
          "name": "stdout",
          "text": [
            "[[104998  19572]\n",
            " [  7564 117006]]\n",
            "              precision    recall  f1-score   support\n",
            "\n",
            "           0       0.93      0.84      0.89    124570\n",
            "           1       0.86      0.94      0.90    124570\n",
            "\n",
            "    accuracy                           0.89    249140\n",
            "   macro avg       0.89      0.89      0.89    249140\n",
            "weighted avg       0.89      0.89      0.89    249140\n",
            "\n",
            "Accuracy: 0.8911\n",
            "Auc for our data is 0.891\n",
            "Kappa Stat: 0.7821626394798106\n"
          ]
        }
      ],
      "source": [
        "knn = KNeighborsClassifier(n_neighbors = 5, metric = 'minkowski', p = 2)\n",
        "y_train = y_train.values.ravel()\n",
        "y_test = y_test.values.ravel()\n",
        "knn.fit(X_train, y_train)\n",
        "\n",
        "# Predicting the Train set results\n",
        "y_pred = knn.predict(X_test)\n",
        "\n",
        "# Making the Confusion Matrix\n",
        "cm = confusion_matrix(y_test, y_pred)\n",
        "precision, recall, fscore, support = score(y_test, y_pred)\n",
        "print(cm)\n",
        "accuracy = accuracy_score(y_test, y_pred)\n",
        "print(classification_report(y_test, y_pred))\n",
        "print(f'Accuracy: {accuracy:.4f}')\n",
        "auc = np.round(roc_auc_score(y_test, y_pred), 3)\n",
        "print(\"Auc for our data is {}\".format(auc))\n",
        "print('Kappa Stat:',chs(y_test, y_pred))"
      ]
    },
    {
      "cell_type": "markdown",
      "source": [
        "##Extra Tree Classifier"
      ],
      "metadata": {
        "id": "s1ZeJasNzFBz"
      }
    },
    {
      "cell_type": "code",
      "source": [
        "# Initialize the Extra Trees Classifier\n",
        "et_classifier = ExtraTreesClassifier(n_estimators=100, random_state=47)\n",
        "\n",
        "# Fit the model on the training data\n",
        "clf = et_classifier.fit(X_train, y_train)\n",
        "\n",
        "# Predict the labels for the test data\n",
        "y_pred = et_classifier.predict(X_test)\n",
        "\n",
        "# Evaluate the model\n",
        "accuracy = accuracy_score(y_test, y_pred)\n",
        "report = classification_report(y_test, y_pred)\n",
        "\n",
        "# Print the evaluation metrics\n",
        "cm = confusion_matrix(y_test, y_pred)\n",
        "print(cm)\n",
        "print(f'Accuracy: {accuracy:.4f}')\n",
        "print('Kappa Stat:',chs(y_test, y_pred))\n",
        "print('Classification Report:')\n",
        "print(report)\n"
      ],
      "metadata": {
        "colab": {
          "base_uri": "https://localhost:8080/"
        },
        "id": "HF3JyJzg0Vp7",
        "outputId": "065e78e2-80c0-4e41-838f-0db6d9992de4"
      },
      "execution_count": 82,
      "outputs": [
        {
          "output_type": "stream",
          "name": "stdout",
          "text": [
            "Accuracy: 0.9104\n",
            "Kappa Stat: 0.8207995504535602\n",
            "Classification Report:\n",
            "              precision    recall  f1-score   support\n",
            "\n",
            "           0       1.00      0.82      0.90    124570\n",
            "           1       0.85      1.00      0.92    124570\n",
            "\n",
            "    accuracy                           0.91    249140\n",
            "   macro avg       0.92      0.91      0.91    249140\n",
            "weighted avg       0.92      0.91      0.91    249140\n",
            "\n"
          ]
        }
      ]
    },
    {
      "cell_type": "code",
      "source": [
        "\n",
        "# Computing the importance of each feature\n",
        "feature_importance = et_classifier.feature_importances_\n",
        "\n",
        "# Normalizing the individual importances\n",
        "feature_importance_normalized = np.std([tree.feature_importances_ for tree in\n",
        "                                        et_classifier.estimators_],\n",
        "                                        axis = 0)\n",
        "print('8 fold cross-validation:',cvl(clf, X_train, y_train, cv=8))\n",
        "plt.figure(figsize=(50,22))\n",
        "plt.bar(X.columns, feature_importance_normalized)\n",
        "plt.xlabel('Feature Labels', fontsize = 30)\n",
        "plt.ylabel('Feature Importances', fontsize = 30)\n",
        "plt.title('Comparison of different Feature Importances', fontsize = 30)\n",
        "plt.show()"
      ],
      "metadata": {
        "colab": {
          "base_uri": "https://localhost:8080/",
          "height": 849
        },
        "id": "21yLDDT8tdXq",
        "outputId": "34975293-0cd6-497d-e4e7-06d97e2e94e2"
      },
      "execution_count": 83,
      "outputs": [
        {
          "output_type": "stream",
          "name": "stdout",
          "text": [
            "8 fold cross-validation: [0.9098478  0.90825145 0.9075909  0.90874687 0.90908966 0.90899333\n",
            " 0.90827771 0.90807129]\n"
          ]
        },
        {
          "output_type": "display_data",
          "data": {
            "text/plain": [
              "<Figure size 5000x2200 with 1 Axes>"
            ],
            "image/png": "[encoded data removed]"
          },
          "metadata": {}
        }
      ]
    },
    {
      "cell_type": "markdown",
      "source": [
        "##Decision Tree Classifier"
      ],
      "metadata": {
        "id": "I2mIGaUWtYwT"
      }
    },
    {
      "cell_type": "code",
      "execution_count": 84,
      "metadata": {
        "colab": {
          "base_uri": "https://localhost:8080/"
        },
        "id": "opfEKXLvhtWP",
        "outputId": "f3f88414-992b-470f-cd78-1dbfeb5ff603"
      },
      "outputs": [
        {
          "output_type": "stream",
          "name": "stdout",
          "text": [
            "[0.68913259 0.68783383 0.69035393 0.68717155 0.68725487]\n",
            "Mean of Cross-Validation Scores: 0.6883493523500078\n",
            "Standard Deviation: 0.0012233299592861336\n",
            "Confusion Matrix\n",
            "[[104998  19572]\n",
            " [  7564 117006]]\n",
            "              precision    recall  f1-score   support\n",
            "\n",
            "           0       0.66      0.77      0.71    124570\n",
            "           1       0.73      0.60      0.66    124570\n",
            "\n",
            "    accuracy                           0.69    249140\n",
            "   macro avg       0.69      0.69      0.68    249140\n",
            "weighted avg       0.69      0.69      0.68    249140\n",
            "\n",
            "Auc for our data is 0.686\n",
            "Kappa Stat: 0.3727783575499719\n"
          ]
        }
      ],
      "source": [
        "# Create a decision tree classifier\n",
        "clf = DecisionTreeClassifier(max_depth=3, random_state = 47)\n",
        "clf = clf.fit(X_train, y_train)\n",
        "y_pred = clf.predict(X_test)\n",
        "cv_scores = cvl(clf, X_train, y_train, cv=5)\n",
        "# Perform cross-validation\n",
        "\n",
        "# Print the different scores\n",
        "print(cv_scores)\n",
        "print('Mean of Cross-Validation Scores:',cv_scores.mean())\n",
        "print('Standard Deviation:',cv_scores.std())\n",
        "print('Confusion Matrix')\n",
        "print(cm)\n",
        "print(classification_report(y_test, y_pred))\n",
        "auc = np.round(roc_auc_score(y_test, y_pred), 3)\n",
        "print(\"Auc for our data is {}\".format(auc))\n",
        "print('Kappa Stat:',chs(y_test, y_pred))"
      ]
    },
    {
      "cell_type": "markdown",
      "source": [
        "##Ada Boost"
      ],
      "metadata": {
        "id": "jSnesrCcvHHU"
      }
    },
    {
      "cell_type": "code",
      "execution_count": 85,
      "metadata": {
        "colab": {
          "base_uri": "https://localhost:8080/"
        },
        "id": "BUau80bvg-wy",
        "outputId": "848542a1-145f-453c-9859-f22c3db7546a"
      },
      "outputs": [
        {
          "output_type": "stream",
          "name": "stdout",
          "text": [
            "Accuracy: 0.7319\n",
            "              precision    recall  f1-score   support\n",
            "\n",
            "           0       0.71      0.79      0.75    124570\n",
            "           1       0.76      0.68      0.72    124570\n",
            "\n",
            "    accuracy                           0.73    249140\n",
            "   macro avg       0.73      0.73      0.73    249140\n",
            "weighted avg       0.73      0.73      0.73    249140\n",
            "\n",
            "Kappa Stat: 0.4637\n"
          ]
        }
      ],
      "source": [
        "from sklearn.model_selection import GridSearchCV\n",
        "from sklearn.tree import DecisionTreeClassifier\n",
        "from sklearn.ensemble import AdaBoostClassifier\n",
        "from sklearn.metrics import accuracy_score\n",
        "from sklearn.metrics import cohen_kappa_score as chs\n",
        "\n",
        "# Define the hyperparameter grid\n",
        "param_grid = {\n",
        "    'max_depth': [2, 3, 4, 5, 6],\n",
        "    'min_samples_split': [2, 5, 10],\n",
        "    'min_samples_leaf': [1, 2, 4],\n",
        "    'max_features': ['sqrt', 'sqrt', 'log2']\n",
        "}\n",
        "\n",
        "# Create a Decision Tree Classifier\n",
        "weak_classifier = DecisionTreeClassifier()\n",
        "\n",
        "# Create a GridSearchCV object\n",
        "grid_search = GridSearchCV(estimator=weak_classifier, param_grid=param_grid, cv=5)\n",
        "\n",
        "# Fit the GridSearchCV object to the training data\n",
        "grid_search.fit(X_train, y_train)\n",
        "\n",
        "# Get the best estimator\n",
        "best_estimator = grid_search.best_estimator_\n",
        "\n",
        "# Create an AdaBoostClassifier object using the best estimator\n",
        "adaboost_model = AdaBoostClassifier(estimator=best_estimator, n_estimators=3)\n",
        "\n",
        "# Fit the AdaBoostClassifier object to the training data\n",
        "adaboost_model.fit(X_train, y_train)\n",
        "\n",
        "# Predict the training data\n",
        "y_pred = adaboost_model.predict(X_test)\n",
        "\n",
        "accuracy = accuracy_score(y_test, y_pred)\n",
        "print(f'Accuracy: {accuracy:.4f}')\n",
        "print(classification_report(y_test, y_pred))\n",
        "# Calculate Cohen's Kappa\n",
        "kappa_stat = chs(y_test, y_pred)\n",
        "print(f'Kappa Stat: {kappa_stat:.4f}')\n"
      ]
    },
    {
      "cell_type": "markdown",
      "source": [
        "##Under-sampling models"
      ],
      "metadata": {
        "id": "gSdLAaqL-L6S"
      }
    },
    {
      "cell_type": "code",
      "execution_count": 86,
      "metadata": {
        "id": "VeNS7Vvaa6-4",
        "colab": {
          "base_uri": "https://localhost:8080/",
          "height": 445
        },
        "outputId": "4fdcf042-d4c5-49da-cc0e-70d19ffe3d35"
      },
      "outputs": [
        {
          "output_type": "stream",
          "name": "stdout",
          "text": [
            "5454 5454\n"
          ]
        },
        {
          "output_type": "display_data",
          "data": {
            "text/plain": [
              "<Figure size 640x480 with 1 Axes>"
            ],
            "image/png": "[encoded data removed]"
          },
          "metadata": {}
        }
      ],
      "source": [
        "from imblearn.under_sampling import RandomUnderSampler\n",
        "rus = RandomUnderSampler(sampling_strategy = 1, random_state = 47)\n",
        "X_res, y_res = rus.fit_resample(X1, y1)\n",
        "ax = y_res.value_counts().plot.pie(autopct='%.2f')\n",
        "_ = ax.set_title(\"Under-sampling\")\n",
        "X = X_res\n",
        "y = y_res\n",
        "print((len(X)),len(y))"
      ]
    },
    {
      "cell_type": "markdown",
      "source": [
        "##Extra Trees Classifier"
      ],
      "metadata": {
        "id": "DXSQQ-QDBqOJ"
      }
    },
    {
      "cell_type": "code",
      "execution_count": 87,
      "metadata": {
        "id": "T6kPLtmHa7B4",
        "colab": {
          "base_uri": "https://localhost:8080/"
        },
        "outputId": "4fed352e-ad6d-4afb-93aa-92b30d1026b4"
      },
      "outputs": [
        {
          "output_type": "stream",
          "name": "stdout",
          "text": [
            "Accuracy: 0.7019\n",
            "Classification Report:\n",
            "              precision    recall  f1-score   support\n",
            "\n",
            "           0       0.69      0.74      0.71       818\n",
            "           1       0.72      0.67      0.69       819\n",
            "\n",
            "    accuracy                           0.70      1637\n",
            "   macro avg       0.70      0.70      0.70      1637\n",
            "weighted avg       0.70      0.70      0.70      1637\n",
            "\n"
          ]
        }
      ],
      "source": [
        "X = pd.DataFrame(data=X,columns = ['WindDirection','WindSpeed','Humidity','visibility','temperature','presure','season'])\n",
        "y = pd.DataFrame(data=y,columns=['Weather Delay'])\n",
        "X_train, X_test, y_train, y_test = train_test_split(X,y, test_size= .30,random_state = 47, stratify=y)\n",
        "y_train = y_train.values.ravel()\n",
        "y_test = y_test.values.ravel()\n",
        "et_classifier = ExtraTreesClassifier(n_estimators=100, random_state=47)\n",
        "\n",
        "# Fit the model on the training data\n",
        "clf = et_classifier.fit(X_train, y_train)\n",
        "\n",
        "# Predict the labels for the test data\n",
        "y_pred = et_classifier.predict(X_test)\n",
        "\n",
        "# Evaluate the model\n",
        "accuracy = accuracy_score(y_test, y_pred)\n",
        "report = classification_report(y_test, y_pred)\n",
        "\n",
        "# Print the evaluation metrics\n",
        "print(f'Accuracy: {accuracy:.4f}')\n",
        "print('Classification Report:')\n",
        "print(report)"
      ]
    },
    {
      "cell_type": "markdown",
      "source": [
        "##Ada boost"
      ],
      "metadata": {
        "id": "PjVgxpXgBjzn"
      }
    },
    {
      "cell_type": "code",
      "source": [
        "param_grid = {\n",
        "    'max_depth': [2, 3, 4, 5, 6],\n",
        "    'min_samples_split': [2, 5, 10],\n",
        "    'min_samples_leaf': [1, 2, 4],\n",
        "    'max_features': ['sqrt', 'sqrt', 'log2']\n",
        "}\n",
        "\n",
        "# Create a Decision Tree Classifier\n",
        "weak_classifier = DecisionTreeClassifier()\n",
        "\n",
        "# Create a GridSearchCV object\n",
        "grid_search = GridSearchCV(estimator=weak_classifier, param_grid=param_grid, cv=5)\n",
        "\n",
        "# Fit the GridSearchCV object to the training data\n",
        "grid_search.fit(X_train, y_train)\n",
        "\n",
        "# Get the best estimator\n",
        "best_estimator = grid_search.best_estimator_\n",
        "\n",
        "# Create an AdaBoostClassifier object using the best estimator\n",
        "adaboost_model = AdaBoostClassifier(estimator=best_estimator, n_estimators=3)\n",
        "\n",
        "# Fit the AdaBoostClassifier object to the training data\n",
        "adaboost_model.fit(X_train, y_train)\n",
        "\n",
        "# Predict the training data\n",
        "y_pred = adaboost_model.predict(X_test)\n",
        "\n",
        "accuracy = accuracy_score(y_test, y_pred)\n",
        "print(f'Accuracy: {accuracy:.4f}')\n",
        "print(classification_report(y_test, y_pred))\n",
        "# Calculate Cohen's Kappa\n",
        "kappa_stat = chs(y_test, y_pred)\n",
        "print(f'Kappa Stat: {kappa_stat:.4f}')"
      ],
      "metadata": {
        "colab": {
          "base_uri": "https://localhost:8080/"
        },
        "id": "7hJzaMk6B1FW",
        "outputId": "e06fcd01-d87c-403b-d07f-e774c5c571c4"
      },
      "execution_count": 88,
      "outputs": [
        {
          "output_type": "stream",
          "name": "stdout",
          "text": [
            "Accuracy: 0.6878\n",
            "              precision    recall  f1-score   support\n",
            "\n",
            "           0       0.69      0.68      0.69       818\n",
            "           1       0.69      0.69      0.69       819\n",
            "\n",
            "    accuracy                           0.69      1637\n",
            "   macro avg       0.69      0.69      0.69      1637\n",
            "weighted avg       0.69      0.69      0.69      1637\n",
            "\n",
            "Kappa Stat: 0.3757\n"
          ]
        }
      ]
    },
    {
      "cell_type": "markdown",
      "source": [
        "#Conclusion\n",
        "\n",
        "The oversampled synthetic data to balance the dataset provides a much more accurate prediction when using any of the models within this code. The Extra Trees Classifier has outperformed the other models, and it shows that the most impactful feature in predicting a weather delay is Humidity."
      ],
      "metadata": {
        "id": "nF_pYuCkB1oO"
      }
    },
    {
      "cell_type": "code",
      "source": [],
      "metadata": {
        "id": "KQIxneLKCXDP"
      },
      "execution_count": 88,
      "outputs": []
    }
  ],
  "metadata": {
    "colab": {
      "provenance": []
    },
    "kernelspec": {
      "display_name": "Python 3",
      "name": "python3"
    },
    "language_info": {
      "name": "python"
    }
  },
  "nbformat": 4,
  "nbformat_minor": 0
}